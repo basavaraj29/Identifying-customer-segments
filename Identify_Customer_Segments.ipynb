{
 "cells": [
  {
   "cell_type": "markdown",
   "metadata": {},
   "source": [
    "# Project: Identify Customer Segments\n",
    "\n",
    "In this project, you will apply unsupervised learning techniques to identify segments of the population that form the core customer base for a mail-order sales company in Germany. These segments can then be used to direct marketing campaigns towards audiences that will have the highest expected rate of returns. The data that you will use has been provided by our partners at Bertelsmann Arvato Analytics, and represents a real-life data science task.\n",
    "\n",
    "This notebook will help you complete this task by providing a framework within which you will perform your analysis steps. In each step of the project, you will see some text describing the subtask that you will perform, followed by one or more code cells for you to complete your work. **Feel free to add additional code and markdown cells as you go along so that you can explore everything in precise chunks.** The code cells provided in the base template will outline only the major tasks, and will usually not be enough to cover all of the minor tasks that comprise it.\n",
    "\n",
    "It should be noted that while there will be precise guidelines on how you should handle certain tasks in the project, there will also be places where an exact specification is not provided. **There will be times in the project where you will need to make and justify your own decisions on how to treat the data.** These are places where there may not be only one way to handle the data. In real-life tasks, there may be many valid ways to approach an analysis task. One of the most important things you can do is clearly document your approach so that other scientists can understand the decisions you've made.\n",
    "\n",
    "At the end of most sections, there will be a Markdown cell labeled **Discussion**. In these cells, you will report your findings for the completed section, as well as document the decisions that you made in your approach to each subtask. **Your project will be evaluated not just on the code used to complete the tasks outlined, but also your communication about your observations and conclusions at each stage.**"
   ]
  },
  {
   "cell_type": "code",
   "execution_count": 1,
   "metadata": {},
   "outputs": [
    {
     "data": {
      "text/plain": [
       "'\\nImport note: The classroom currently uses sklearn version 0.19.\\nIf you need to use an imputer, it is available in sklearn.preprocessing.Imputer,\\ninstead of sklearn.impute as in newer versions of sklearn.\\n'"
      ]
     },
     "execution_count": 1,
     "metadata": {},
     "output_type": "execute_result"
    }
   ],
   "source": [
    "# import libraries here; add more as necessary\n",
    "import numpy as np\n",
    "import pandas as pd\n",
    "import matplotlib.pyplot as plt\n",
    "import seaborn as sns\n",
    "from sklearn.preprocessing import Imputer\n",
    "from sklearn.preprocessing import StandardScaler\n",
    "from sklearn.decomposition import PCA\n",
    "from sklearn.cluster import KMeans \n",
    "\n",
    "# magic word for producing visualizations in notebook\n",
    "%matplotlib inline\n",
    "\n",
    "'''\n",
    "Import note: The classroom currently uses sklearn version 0.19.\n",
    "If you need to use an imputer, it is available in sklearn.preprocessing.Imputer,\n",
    "instead of sklearn.impute as in newer versions of sklearn.\n",
    "'''"
   ]
  },
  {
   "cell_type": "markdown",
   "metadata": {},
   "source": [
    "### Step 0: Load the Data\n",
    "\n",
    "There are four files associated with this project (not including this one):\n",
    "\n",
    "- `Udacity_AZDIAS_Subset.csv`: Demographics data for the general population of Germany; 891211 persons (rows) x 85 features (columns).\n",
    "- `Udacity_CUSTOMERS_Subset.csv`: Demographics data for customers of a mail-order company; 191652 persons (rows) x 85 features (columns).\n",
    "- `Data_Dictionary.md`: Detailed information file about the features in the provided datasets.\n",
    "- `AZDIAS_Feature_Summary.csv`: Summary of feature attributes for demographics data; 85 features (rows) x 4 columns\n",
    "\n",
    "Each row of the demographics files represents a single person, but also includes information outside of individuals, including information about their household, building, and neighborhood. You will use this information to cluster the general population into groups with similar demographic properties. Then, you will see how the people in the customers dataset fit into those created clusters. The hope here is that certain clusters are over-represented in the customers data, as compared to the general population; those over-represented clusters will be assumed to be part of the core userbase. This information can then be used for further applications, such as targeting for a marketing campaign.\n",
    "\n",
    "To start off with, load in the demographics data for the general population into a pandas DataFrame, and do the same for the feature attributes summary. Note for all of the `.csv` data files in this project: they're semicolon (`;`) delimited, so you'll need an additional argument in your [`read_csv()`](https://pandas.pydata.org/pandas-docs/stable/generated/pandas.read_csv.html) call to read in the data properly. Also, considering the size of the main dataset, it may take some time for it to load completely.\n",
    "\n",
    "Once the dataset is loaded, it's recommended that you take a little bit of time just browsing the general structure of the dataset and feature summary file. You'll be getting deep into the innards of the cleaning in the first major step of the project, so gaining some general familiarity can help you get your bearings."
   ]
  },
  {
   "cell_type": "code",
   "execution_count": 2,
   "metadata": {},
   "outputs": [],
   "source": [
    "# Load in the general demographics data.\n",
    "azdias = pd.read_csv('Udacity_AZDIAS_Subset.csv', delimiter=';')\n",
    "\n",
    "# Load in the feature summary file.\n",
    "feat_info = pd.read_csv('AZDIAS_Feature_Summary.csv', delimiter=';')"
   ]
  },
  {
   "cell_type": "code",
   "execution_count": 3,
   "metadata": {},
   "outputs": [
    {
     "data": {
      "text/html": [
       "<div>\n",
       "<style scoped>\n",
       "    .dataframe tbody tr th:only-of-type {\n",
       "        vertical-align: middle;\n",
       "    }\n",
       "\n",
       "    .dataframe tbody tr th {\n",
       "        vertical-align: top;\n",
       "    }\n",
       "\n",
       "    .dataframe thead th {\n",
       "        text-align: right;\n",
       "    }\n",
       "</style>\n",
       "<table border=\"1\" class=\"dataframe\">\n",
       "  <thead>\n",
       "    <tr style=\"text-align: right;\">\n",
       "      <th></th>\n",
       "      <th>AGER_TYP</th>\n",
       "      <th>ALTERSKATEGORIE_GROB</th>\n",
       "      <th>ANREDE_KZ</th>\n",
       "      <th>CJT_GESAMTTYP</th>\n",
       "      <th>FINANZ_MINIMALIST</th>\n",
       "      <th>FINANZ_SPARER</th>\n",
       "      <th>FINANZ_VORSORGER</th>\n",
       "      <th>FINANZ_ANLEGER</th>\n",
       "      <th>FINANZ_UNAUFFAELLIGER</th>\n",
       "      <th>FINANZ_HAUSBAUER</th>\n",
       "      <th>...</th>\n",
       "      <th>PLZ8_ANTG1</th>\n",
       "      <th>PLZ8_ANTG2</th>\n",
       "      <th>PLZ8_ANTG3</th>\n",
       "      <th>PLZ8_ANTG4</th>\n",
       "      <th>PLZ8_BAUMAX</th>\n",
       "      <th>PLZ8_HHZ</th>\n",
       "      <th>PLZ8_GBZ</th>\n",
       "      <th>ARBEIT</th>\n",
       "      <th>ORTSGR_KLS9</th>\n",
       "      <th>RELAT_AB</th>\n",
       "    </tr>\n",
       "  </thead>\n",
       "  <tbody>\n",
       "    <tr>\n",
       "      <th>0</th>\n",
       "      <td>-1</td>\n",
       "      <td>2</td>\n",
       "      <td>1</td>\n",
       "      <td>2.0</td>\n",
       "      <td>3</td>\n",
       "      <td>4</td>\n",
       "      <td>3</td>\n",
       "      <td>5</td>\n",
       "      <td>5</td>\n",
       "      <td>3</td>\n",
       "      <td>...</td>\n",
       "      <td>NaN</td>\n",
       "      <td>NaN</td>\n",
       "      <td>NaN</td>\n",
       "      <td>NaN</td>\n",
       "      <td>NaN</td>\n",
       "      <td>NaN</td>\n",
       "      <td>NaN</td>\n",
       "      <td>NaN</td>\n",
       "      <td>NaN</td>\n",
       "      <td>NaN</td>\n",
       "    </tr>\n",
       "    <tr>\n",
       "      <th>1</th>\n",
       "      <td>-1</td>\n",
       "      <td>1</td>\n",
       "      <td>2</td>\n",
       "      <td>5.0</td>\n",
       "      <td>1</td>\n",
       "      <td>5</td>\n",
       "      <td>2</td>\n",
       "      <td>5</td>\n",
       "      <td>4</td>\n",
       "      <td>5</td>\n",
       "      <td>...</td>\n",
       "      <td>2.0</td>\n",
       "      <td>3.0</td>\n",
       "      <td>2.0</td>\n",
       "      <td>1.0</td>\n",
       "      <td>1.0</td>\n",
       "      <td>5.0</td>\n",
       "      <td>4.0</td>\n",
       "      <td>3.0</td>\n",
       "      <td>5.0</td>\n",
       "      <td>4.0</td>\n",
       "    </tr>\n",
       "    <tr>\n",
       "      <th>2</th>\n",
       "      <td>-1</td>\n",
       "      <td>3</td>\n",
       "      <td>2</td>\n",
       "      <td>3.0</td>\n",
       "      <td>1</td>\n",
       "      <td>4</td>\n",
       "      <td>1</td>\n",
       "      <td>2</td>\n",
       "      <td>3</td>\n",
       "      <td>5</td>\n",
       "      <td>...</td>\n",
       "      <td>3.0</td>\n",
       "      <td>3.0</td>\n",
       "      <td>1.0</td>\n",
       "      <td>0.0</td>\n",
       "      <td>1.0</td>\n",
       "      <td>4.0</td>\n",
       "      <td>4.0</td>\n",
       "      <td>3.0</td>\n",
       "      <td>5.0</td>\n",
       "      <td>2.0</td>\n",
       "    </tr>\n",
       "    <tr>\n",
       "      <th>3</th>\n",
       "      <td>2</td>\n",
       "      <td>4</td>\n",
       "      <td>2</td>\n",
       "      <td>2.0</td>\n",
       "      <td>4</td>\n",
       "      <td>2</td>\n",
       "      <td>5</td>\n",
       "      <td>2</td>\n",
       "      <td>1</td>\n",
       "      <td>2</td>\n",
       "      <td>...</td>\n",
       "      <td>2.0</td>\n",
       "      <td>2.0</td>\n",
       "      <td>2.0</td>\n",
       "      <td>0.0</td>\n",
       "      <td>1.0</td>\n",
       "      <td>3.0</td>\n",
       "      <td>4.0</td>\n",
       "      <td>2.0</td>\n",
       "      <td>3.0</td>\n",
       "      <td>3.0</td>\n",
       "    </tr>\n",
       "    <tr>\n",
       "      <th>4</th>\n",
       "      <td>-1</td>\n",
       "      <td>3</td>\n",
       "      <td>1</td>\n",
       "      <td>5.0</td>\n",
       "      <td>4</td>\n",
       "      <td>3</td>\n",
       "      <td>4</td>\n",
       "      <td>1</td>\n",
       "      <td>3</td>\n",
       "      <td>2</td>\n",
       "      <td>...</td>\n",
       "      <td>2.0</td>\n",
       "      <td>4.0</td>\n",
       "      <td>2.0</td>\n",
       "      <td>1.0</td>\n",
       "      <td>2.0</td>\n",
       "      <td>3.0</td>\n",
       "      <td>3.0</td>\n",
       "      <td>4.0</td>\n",
       "      <td>6.0</td>\n",
       "      <td>5.0</td>\n",
       "    </tr>\n",
       "  </tbody>\n",
       "</table>\n",
       "<p>5 rows × 85 columns</p>\n",
       "</div>"
      ],
      "text/plain": [
       "   AGER_TYP  ALTERSKATEGORIE_GROB  ANREDE_KZ  CJT_GESAMTTYP  \\\n",
       "0        -1                     2          1            2.0   \n",
       "1        -1                     1          2            5.0   \n",
       "2        -1                     3          2            3.0   \n",
       "3         2                     4          2            2.0   \n",
       "4        -1                     3          1            5.0   \n",
       "\n",
       "   FINANZ_MINIMALIST  FINANZ_SPARER  FINANZ_VORSORGER  FINANZ_ANLEGER  \\\n",
       "0                  3              4                 3               5   \n",
       "1                  1              5                 2               5   \n",
       "2                  1              4                 1               2   \n",
       "3                  4              2                 5               2   \n",
       "4                  4              3                 4               1   \n",
       "\n",
       "   FINANZ_UNAUFFAELLIGER  FINANZ_HAUSBAUER    ...     PLZ8_ANTG1  PLZ8_ANTG2  \\\n",
       "0                      5                 3    ...            NaN         NaN   \n",
       "1                      4                 5    ...            2.0         3.0   \n",
       "2                      3                 5    ...            3.0         3.0   \n",
       "3                      1                 2    ...            2.0         2.0   \n",
       "4                      3                 2    ...            2.0         4.0   \n",
       "\n",
       "   PLZ8_ANTG3  PLZ8_ANTG4  PLZ8_BAUMAX  PLZ8_HHZ  PLZ8_GBZ  ARBEIT  \\\n",
       "0         NaN         NaN          NaN       NaN       NaN     NaN   \n",
       "1         2.0         1.0          1.0       5.0       4.0     3.0   \n",
       "2         1.0         0.0          1.0       4.0       4.0     3.0   \n",
       "3         2.0         0.0          1.0       3.0       4.0     2.0   \n",
       "4         2.0         1.0          2.0       3.0       3.0     4.0   \n",
       "\n",
       "   ORTSGR_KLS9  RELAT_AB  \n",
       "0          NaN       NaN  \n",
       "1          5.0       4.0  \n",
       "2          5.0       2.0  \n",
       "3          3.0       3.0  \n",
       "4          6.0       5.0  \n",
       "\n",
       "[5 rows x 85 columns]"
      ]
     },
     "execution_count": 3,
     "metadata": {},
     "output_type": "execute_result"
    }
   ],
   "source": [
    "# Check the structure of the data after it's loaded (e.g. print the number of\n",
    "# rows and columns, print the first few rows).\n",
    "azdias.head()"
   ]
  },
  {
   "cell_type": "code",
   "execution_count": 4,
   "metadata": {},
   "outputs": [
    {
     "data": {
      "text/html": [
       "<div>\n",
       "<style scoped>\n",
       "    .dataframe tbody tr th:only-of-type {\n",
       "        vertical-align: middle;\n",
       "    }\n",
       "\n",
       "    .dataframe tbody tr th {\n",
       "        vertical-align: top;\n",
       "    }\n",
       "\n",
       "    .dataframe thead th {\n",
       "        text-align: right;\n",
       "    }\n",
       "</style>\n",
       "<table border=\"1\" class=\"dataframe\">\n",
       "  <thead>\n",
       "    <tr style=\"text-align: right;\">\n",
       "      <th></th>\n",
       "      <th>attribute</th>\n",
       "      <th>information_level</th>\n",
       "      <th>type</th>\n",
       "      <th>missing_or_unknown</th>\n",
       "    </tr>\n",
       "  </thead>\n",
       "  <tbody>\n",
       "    <tr>\n",
       "      <th>0</th>\n",
       "      <td>AGER_TYP</td>\n",
       "      <td>person</td>\n",
       "      <td>categorical</td>\n",
       "      <td>[-1,0]</td>\n",
       "    </tr>\n",
       "    <tr>\n",
       "      <th>1</th>\n",
       "      <td>ALTERSKATEGORIE_GROB</td>\n",
       "      <td>person</td>\n",
       "      <td>ordinal</td>\n",
       "      <td>[-1,0,9]</td>\n",
       "    </tr>\n",
       "    <tr>\n",
       "      <th>2</th>\n",
       "      <td>ANREDE_KZ</td>\n",
       "      <td>person</td>\n",
       "      <td>categorical</td>\n",
       "      <td>[-1,0]</td>\n",
       "    </tr>\n",
       "    <tr>\n",
       "      <th>3</th>\n",
       "      <td>CJT_GESAMTTYP</td>\n",
       "      <td>person</td>\n",
       "      <td>categorical</td>\n",
       "      <td>[0]</td>\n",
       "    </tr>\n",
       "    <tr>\n",
       "      <th>4</th>\n",
       "      <td>FINANZ_MINIMALIST</td>\n",
       "      <td>person</td>\n",
       "      <td>ordinal</td>\n",
       "      <td>[-1]</td>\n",
       "    </tr>\n",
       "  </tbody>\n",
       "</table>\n",
       "</div>"
      ],
      "text/plain": [
       "              attribute information_level         type missing_or_unknown\n",
       "0              AGER_TYP            person  categorical             [-1,0]\n",
       "1  ALTERSKATEGORIE_GROB            person      ordinal           [-1,0,9]\n",
       "2             ANREDE_KZ            person  categorical             [-1,0]\n",
       "3         CJT_GESAMTTYP            person  categorical                [0]\n",
       "4     FINANZ_MINIMALIST            person      ordinal               [-1]"
      ]
     },
     "execution_count": 4,
     "metadata": {},
     "output_type": "execute_result"
    }
   ],
   "source": [
    "feat_info.head()"
   ]
  },
  {
   "cell_type": "code",
   "execution_count": 5,
   "metadata": {},
   "outputs": [
    {
     "data": {
      "text/html": [
       "<div>\n",
       "<style scoped>\n",
       "    .dataframe tbody tr th:only-of-type {\n",
       "        vertical-align: middle;\n",
       "    }\n",
       "\n",
       "    .dataframe tbody tr th {\n",
       "        vertical-align: top;\n",
       "    }\n",
       "\n",
       "    .dataframe thead th {\n",
       "        text-align: right;\n",
       "    }\n",
       "</style>\n",
       "<table border=\"1\" class=\"dataframe\">\n",
       "  <thead>\n",
       "    <tr style=\"text-align: right;\">\n",
       "      <th></th>\n",
       "      <th>AGER_TYP</th>\n",
       "      <th>ALTERSKATEGORIE_GROB</th>\n",
       "      <th>ANREDE_KZ</th>\n",
       "      <th>CJT_GESAMTTYP</th>\n",
       "      <th>FINANZ_MINIMALIST</th>\n",
       "      <th>FINANZ_SPARER</th>\n",
       "      <th>FINANZ_VORSORGER</th>\n",
       "      <th>FINANZ_ANLEGER</th>\n",
       "      <th>FINANZ_UNAUFFAELLIGER</th>\n",
       "      <th>FINANZ_HAUSBAUER</th>\n",
       "      <th>...</th>\n",
       "      <th>PLZ8_ANTG1</th>\n",
       "      <th>PLZ8_ANTG2</th>\n",
       "      <th>PLZ8_ANTG3</th>\n",
       "      <th>PLZ8_ANTG4</th>\n",
       "      <th>PLZ8_BAUMAX</th>\n",
       "      <th>PLZ8_HHZ</th>\n",
       "      <th>PLZ8_GBZ</th>\n",
       "      <th>ARBEIT</th>\n",
       "      <th>ORTSGR_KLS9</th>\n",
       "      <th>RELAT_AB</th>\n",
       "    </tr>\n",
       "  </thead>\n",
       "  <tbody>\n",
       "    <tr>\n",
       "      <th>count</th>\n",
       "      <td>891221.000000</td>\n",
       "      <td>891221.000000</td>\n",
       "      <td>891221.000000</td>\n",
       "      <td>886367.000000</td>\n",
       "      <td>891221.000000</td>\n",
       "      <td>891221.000000</td>\n",
       "      <td>891221.000000</td>\n",
       "      <td>891221.000000</td>\n",
       "      <td>891221.000000</td>\n",
       "      <td>891221.000000</td>\n",
       "      <td>...</td>\n",
       "      <td>774706.000000</td>\n",
       "      <td>774706.000000</td>\n",
       "      <td>774706.000000</td>\n",
       "      <td>774706.000000</td>\n",
       "      <td>774706.000000</td>\n",
       "      <td>774706.000000</td>\n",
       "      <td>774706.000000</td>\n",
       "      <td>794005.000000</td>\n",
       "      <td>794005.000000</td>\n",
       "      <td>794005.00000</td>\n",
       "    </tr>\n",
       "    <tr>\n",
       "      <th>mean</th>\n",
       "      <td>-0.358435</td>\n",
       "      <td>2.777398</td>\n",
       "      <td>1.522098</td>\n",
       "      <td>3.632838</td>\n",
       "      <td>3.074528</td>\n",
       "      <td>2.821039</td>\n",
       "      <td>3.401106</td>\n",
       "      <td>3.033328</td>\n",
       "      <td>2.874167</td>\n",
       "      <td>3.075121</td>\n",
       "      <td>...</td>\n",
       "      <td>2.253330</td>\n",
       "      <td>2.801858</td>\n",
       "      <td>1.595426</td>\n",
       "      <td>0.699166</td>\n",
       "      <td>1.943913</td>\n",
       "      <td>3.612821</td>\n",
       "      <td>3.381087</td>\n",
       "      <td>3.167854</td>\n",
       "      <td>5.293002</td>\n",
       "      <td>3.07222</td>\n",
       "    </tr>\n",
       "    <tr>\n",
       "      <th>std</th>\n",
       "      <td>1.198724</td>\n",
       "      <td>1.068775</td>\n",
       "      <td>0.499512</td>\n",
       "      <td>1.595021</td>\n",
       "      <td>1.321055</td>\n",
       "      <td>1.464749</td>\n",
       "      <td>1.322134</td>\n",
       "      <td>1.529603</td>\n",
       "      <td>1.486731</td>\n",
       "      <td>1.353248</td>\n",
       "      <td>...</td>\n",
       "      <td>0.972008</td>\n",
       "      <td>0.920309</td>\n",
       "      <td>0.986736</td>\n",
       "      <td>0.727137</td>\n",
       "      <td>1.459654</td>\n",
       "      <td>0.973967</td>\n",
       "      <td>1.111598</td>\n",
       "      <td>1.002376</td>\n",
       "      <td>2.303739</td>\n",
       "      <td>1.36298</td>\n",
       "    </tr>\n",
       "    <tr>\n",
       "      <th>min</th>\n",
       "      <td>-1.000000</td>\n",
       "      <td>1.000000</td>\n",
       "      <td>1.000000</td>\n",
       "      <td>1.000000</td>\n",
       "      <td>1.000000</td>\n",
       "      <td>1.000000</td>\n",
       "      <td>1.000000</td>\n",
       "      <td>1.000000</td>\n",
       "      <td>1.000000</td>\n",
       "      <td>1.000000</td>\n",
       "      <td>...</td>\n",
       "      <td>0.000000</td>\n",
       "      <td>0.000000</td>\n",
       "      <td>0.000000</td>\n",
       "      <td>0.000000</td>\n",
       "      <td>1.000000</td>\n",
       "      <td>1.000000</td>\n",
       "      <td>1.000000</td>\n",
       "      <td>1.000000</td>\n",
       "      <td>0.000000</td>\n",
       "      <td>1.00000</td>\n",
       "    </tr>\n",
       "    <tr>\n",
       "      <th>25%</th>\n",
       "      <td>-1.000000</td>\n",
       "      <td>2.000000</td>\n",
       "      <td>1.000000</td>\n",
       "      <td>2.000000</td>\n",
       "      <td>2.000000</td>\n",
       "      <td>1.000000</td>\n",
       "      <td>3.000000</td>\n",
       "      <td>2.000000</td>\n",
       "      <td>2.000000</td>\n",
       "      <td>2.000000</td>\n",
       "      <td>...</td>\n",
       "      <td>1.000000</td>\n",
       "      <td>2.000000</td>\n",
       "      <td>1.000000</td>\n",
       "      <td>0.000000</td>\n",
       "      <td>1.000000</td>\n",
       "      <td>3.000000</td>\n",
       "      <td>3.000000</td>\n",
       "      <td>3.000000</td>\n",
       "      <td>4.000000</td>\n",
       "      <td>2.00000</td>\n",
       "    </tr>\n",
       "    <tr>\n",
       "      <th>50%</th>\n",
       "      <td>-1.000000</td>\n",
       "      <td>3.000000</td>\n",
       "      <td>2.000000</td>\n",
       "      <td>4.000000</td>\n",
       "      <td>3.000000</td>\n",
       "      <td>3.000000</td>\n",
       "      <td>3.000000</td>\n",
       "      <td>3.000000</td>\n",
       "      <td>3.000000</td>\n",
       "      <td>3.000000</td>\n",
       "      <td>...</td>\n",
       "      <td>2.000000</td>\n",
       "      <td>3.000000</td>\n",
       "      <td>2.000000</td>\n",
       "      <td>1.000000</td>\n",
       "      <td>1.000000</td>\n",
       "      <td>4.000000</td>\n",
       "      <td>3.000000</td>\n",
       "      <td>3.000000</td>\n",
       "      <td>5.000000</td>\n",
       "      <td>3.00000</td>\n",
       "    </tr>\n",
       "    <tr>\n",
       "      <th>75%</th>\n",
       "      <td>-1.000000</td>\n",
       "      <td>4.000000</td>\n",
       "      <td>2.000000</td>\n",
       "      <td>5.000000</td>\n",
       "      <td>4.000000</td>\n",
       "      <td>4.000000</td>\n",
       "      <td>5.000000</td>\n",
       "      <td>5.000000</td>\n",
       "      <td>4.000000</td>\n",
       "      <td>4.000000</td>\n",
       "      <td>...</td>\n",
       "      <td>3.000000</td>\n",
       "      <td>3.000000</td>\n",
       "      <td>2.000000</td>\n",
       "      <td>1.000000</td>\n",
       "      <td>3.000000</td>\n",
       "      <td>4.000000</td>\n",
       "      <td>4.000000</td>\n",
       "      <td>4.000000</td>\n",
       "      <td>7.000000</td>\n",
       "      <td>4.00000</td>\n",
       "    </tr>\n",
       "    <tr>\n",
       "      <th>max</th>\n",
       "      <td>3.000000</td>\n",
       "      <td>9.000000</td>\n",
       "      <td>2.000000</td>\n",
       "      <td>6.000000</td>\n",
       "      <td>5.000000</td>\n",
       "      <td>5.000000</td>\n",
       "      <td>5.000000</td>\n",
       "      <td>5.000000</td>\n",
       "      <td>5.000000</td>\n",
       "      <td>5.000000</td>\n",
       "      <td>...</td>\n",
       "      <td>4.000000</td>\n",
       "      <td>4.000000</td>\n",
       "      <td>3.000000</td>\n",
       "      <td>2.000000</td>\n",
       "      <td>5.000000</td>\n",
       "      <td>5.000000</td>\n",
       "      <td>5.000000</td>\n",
       "      <td>9.000000</td>\n",
       "      <td>9.000000</td>\n",
       "      <td>9.00000</td>\n",
       "    </tr>\n",
       "  </tbody>\n",
       "</table>\n",
       "<p>8 rows × 81 columns</p>\n",
       "</div>"
      ],
      "text/plain": [
       "            AGER_TYP  ALTERSKATEGORIE_GROB      ANREDE_KZ  CJT_GESAMTTYP  \\\n",
       "count  891221.000000         891221.000000  891221.000000  886367.000000   \n",
       "mean       -0.358435              2.777398       1.522098       3.632838   \n",
       "std         1.198724              1.068775       0.499512       1.595021   \n",
       "min        -1.000000              1.000000       1.000000       1.000000   \n",
       "25%        -1.000000              2.000000       1.000000       2.000000   \n",
       "50%        -1.000000              3.000000       2.000000       4.000000   \n",
       "75%        -1.000000              4.000000       2.000000       5.000000   \n",
       "max         3.000000              9.000000       2.000000       6.000000   \n",
       "\n",
       "       FINANZ_MINIMALIST  FINANZ_SPARER  FINANZ_VORSORGER  FINANZ_ANLEGER  \\\n",
       "count      891221.000000  891221.000000     891221.000000   891221.000000   \n",
       "mean            3.074528       2.821039          3.401106        3.033328   \n",
       "std             1.321055       1.464749          1.322134        1.529603   \n",
       "min             1.000000       1.000000          1.000000        1.000000   \n",
       "25%             2.000000       1.000000          3.000000        2.000000   \n",
       "50%             3.000000       3.000000          3.000000        3.000000   \n",
       "75%             4.000000       4.000000          5.000000        5.000000   \n",
       "max             5.000000       5.000000          5.000000        5.000000   \n",
       "\n",
       "       FINANZ_UNAUFFAELLIGER  FINANZ_HAUSBAUER      ...          PLZ8_ANTG1  \\\n",
       "count          891221.000000     891221.000000      ...       774706.000000   \n",
       "mean                2.874167          3.075121      ...            2.253330   \n",
       "std                 1.486731          1.353248      ...            0.972008   \n",
       "min                 1.000000          1.000000      ...            0.000000   \n",
       "25%                 2.000000          2.000000      ...            1.000000   \n",
       "50%                 3.000000          3.000000      ...            2.000000   \n",
       "75%                 4.000000          4.000000      ...            3.000000   \n",
       "max                 5.000000          5.000000      ...            4.000000   \n",
       "\n",
       "          PLZ8_ANTG2     PLZ8_ANTG3     PLZ8_ANTG4    PLZ8_BAUMAX  \\\n",
       "count  774706.000000  774706.000000  774706.000000  774706.000000   \n",
       "mean        2.801858       1.595426       0.699166       1.943913   \n",
       "std         0.920309       0.986736       0.727137       1.459654   \n",
       "min         0.000000       0.000000       0.000000       1.000000   \n",
       "25%         2.000000       1.000000       0.000000       1.000000   \n",
       "50%         3.000000       2.000000       1.000000       1.000000   \n",
       "75%         3.000000       2.000000       1.000000       3.000000   \n",
       "max         4.000000       3.000000       2.000000       5.000000   \n",
       "\n",
       "            PLZ8_HHZ       PLZ8_GBZ         ARBEIT    ORTSGR_KLS9  \\\n",
       "count  774706.000000  774706.000000  794005.000000  794005.000000   \n",
       "mean        3.612821       3.381087       3.167854       5.293002   \n",
       "std         0.973967       1.111598       1.002376       2.303739   \n",
       "min         1.000000       1.000000       1.000000       0.000000   \n",
       "25%         3.000000       3.000000       3.000000       4.000000   \n",
       "50%         4.000000       3.000000       3.000000       5.000000   \n",
       "75%         4.000000       4.000000       4.000000       7.000000   \n",
       "max         5.000000       5.000000       9.000000       9.000000   \n",
       "\n",
       "           RELAT_AB  \n",
       "count  794005.00000  \n",
       "mean        3.07222  \n",
       "std         1.36298  \n",
       "min         1.00000  \n",
       "25%         2.00000  \n",
       "50%         3.00000  \n",
       "75%         4.00000  \n",
       "max         9.00000  \n",
       "\n",
       "[8 rows x 81 columns]"
      ]
     },
     "execution_count": 5,
     "metadata": {},
     "output_type": "execute_result"
    }
   ],
   "source": [
    "azdias.describe()"
   ]
  },
  {
   "cell_type": "code",
   "execution_count": 6,
   "metadata": {},
   "outputs": [
    {
     "data": {
      "text/html": [
       "<div>\n",
       "<style scoped>\n",
       "    .dataframe tbody tr th:only-of-type {\n",
       "        vertical-align: middle;\n",
       "    }\n",
       "\n",
       "    .dataframe tbody tr th {\n",
       "        vertical-align: top;\n",
       "    }\n",
       "\n",
       "    .dataframe thead th {\n",
       "        text-align: right;\n",
       "    }\n",
       "</style>\n",
       "<table border=\"1\" class=\"dataframe\">\n",
       "  <thead>\n",
       "    <tr style=\"text-align: right;\">\n",
       "      <th></th>\n",
       "      <th>attribute</th>\n",
       "      <th>information_level</th>\n",
       "      <th>type</th>\n",
       "      <th>missing_or_unknown</th>\n",
       "    </tr>\n",
       "  </thead>\n",
       "  <tbody>\n",
       "    <tr>\n",
       "      <th>count</th>\n",
       "      <td>85</td>\n",
       "      <td>85</td>\n",
       "      <td>85</td>\n",
       "      <td>85</td>\n",
       "    </tr>\n",
       "    <tr>\n",
       "      <th>unique</th>\n",
       "      <td>85</td>\n",
       "      <td>9</td>\n",
       "      <td>5</td>\n",
       "      <td>9</td>\n",
       "    </tr>\n",
       "    <tr>\n",
       "      <th>top</th>\n",
       "      <td>SEMIO_KRIT</td>\n",
       "      <td>person</td>\n",
       "      <td>ordinal</td>\n",
       "      <td>[-1]</td>\n",
       "    </tr>\n",
       "    <tr>\n",
       "      <th>freq</th>\n",
       "      <td>1</td>\n",
       "      <td>43</td>\n",
       "      <td>49</td>\n",
       "      <td>26</td>\n",
       "    </tr>\n",
       "  </tbody>\n",
       "</table>\n",
       "</div>"
      ],
      "text/plain": [
       "         attribute information_level     type missing_or_unknown\n",
       "count           85                85       85                 85\n",
       "unique          85                 9        5                  9\n",
       "top     SEMIO_KRIT            person  ordinal               [-1]\n",
       "freq             1                43       49                 26"
      ]
     },
     "execution_count": 6,
     "metadata": {},
     "output_type": "execute_result"
    }
   ],
   "source": [
    "feat_info.describe()"
   ]
  },
  {
   "cell_type": "markdown",
   "metadata": {},
   "source": [
    "> **Tip**: Add additional cells to keep everything in reasonably-sized chunks! Keyboard shortcut `esc --> a` (press escape to enter command mode, then press the 'A' key) adds a new cell before the active cell, and `esc --> b` adds a new cell after the active cell. If you need to convert an active cell to a markdown cell, use `esc --> m` and to convert to a code cell, use `esc --> y`. \n",
    "\n",
    "## Step 1: Preprocessing\n",
    "\n",
    "### Step 1.1: Assess Missing Data\n",
    "\n",
    "The feature summary file contains a summary of properties for each demographics data column. You will use this file to help you make cleaning decisions during this stage of the project. First of all, you should assess the demographics data in terms of missing data. Pay attention to the following points as you perform your analysis, and take notes on what you observe. Make sure that you fill in the **Discussion** cell with your findings and decisions at the end of each step that has one!\n",
    "\n",
    "#### Step 1.1.1: Convert Missing Value Codes to NaNs\n",
    "The fourth column of the feature attributes summary (loaded in above as `feat_info`) documents the codes from the data dictionary that indicate missing or unknown data. While the file encodes this as a list (e.g. `[-1,0]`), this will get read in as a string object. You'll need to do a little bit of parsing to make use of it to identify and clean the data. Convert data that matches a 'missing' or 'unknown' value code into a numpy NaN value. You might want to see how much data takes on a 'missing' or 'unknown' code, and how much data is naturally missing, as a point of interest.\n",
    "\n",
    "**As one more reminder, you are encouraged to add additional cells to break up your analysis into manageable chunks.**"
   ]
  },
  {
   "cell_type": "code",
   "execution_count": 7,
   "metadata": {},
   "outputs": [],
   "source": [
    "def handle_missing_data(df, feat_info):\n",
    "    for ind in feat_info.index:\n",
    "        col = feat_info.iloc[ind]['attribute']\n",
    "        codes = feat_info.iloc[ind]['missing_or_unknown'].strip('[]').split(',')\n",
    "        for code in codes:\n",
    "            if code != '':\n",
    "                try:\n",
    "                    val = int(code)\n",
    "                except:\n",
    "                    new_dict = {code: np.nan, 'NaN': np.nan, 'nan': np.nan}\n",
    "                    df[col] = df[col].apply(str) \n",
    "                    df[col] = df[col].map(lambda x : new_dict[x] if x in new_dict else x)\n",
    "                eval(\"df.{}.replace({}, np.nan, inplace=True)\".format(col, val))\n",
    "    return df"
   ]
  },
  {
   "cell_type": "code",
   "execution_count": 8,
   "metadata": {},
   "outputs": [],
   "source": [
    "azdias = handle_missing_data(azdias, feat_info)"
   ]
  },
  {
   "cell_type": "code",
   "execution_count": 9,
   "metadata": {},
   "outputs": [
    {
     "data": {
      "text/plain": [
       "8373929"
      ]
     },
     "execution_count": 9,
     "metadata": {},
     "output_type": "execute_result"
    }
   ],
   "source": [
    "azdias.isna().sum().sum()"
   ]
  },
  {
   "cell_type": "markdown",
   "metadata": {},
   "source": [
    "#### Step 1.1.2: Assess Missing Data in Each Column\n",
    "\n",
    "How much missing data is present in each column? There are a few columns that are outliers in terms of the proportion of values that are missing. You will want to use matplotlib's [`hist()`](https://matplotlib.org/api/_as_gen/matplotlib.pyplot.hist.html) function to visualize the distribution of missing value counts to find these columns. Identify and document these columns. While some of these columns might have justifications for keeping or re-encoding the data, for this project you should just remove them from the dataframe. (Feel free to make remarks about these outlier columns in the discussion, however!)\n",
    "\n",
    "For the remaining features, are there any patterns in which columns have, or share, missing data?"
   ]
  },
  {
   "cell_type": "code",
   "execution_count": 10,
   "metadata": {},
   "outputs": [],
   "source": [
    "# Perform an assessment of how much missing data there is in each column of the\n",
    "# dataset.\n",
    "def plot_features_vs_nans(df):\n",
    "    count = []\n",
    "    for col in df.columns:\n",
    "        nan_count = eval(\"df.\" + col + \".isna().sum()\")\n",
    "        count.append(nan_count/len(df))\n",
    "    plt.bar(df.columns, count)\n",
    "    return count"
   ]
  },
  {
   "cell_type": "code",
   "execution_count": 11,
   "metadata": {},
   "outputs": [
    {
     "data": {
      "image/png": "[encoded data removed]",
      "text/plain": [
       "<matplotlib.figure.Figure at 0x7fe77d283780>"
      ]
     },
     "metadata": {
      "needs_background": "light"
     },
     "output_type": "display_data"
    }
   ],
   "source": [
    "missing_az = plot_features_vs_nans(azdias)"
   ]
  },
  {
   "cell_type": "code",
   "execution_count": 12,
   "metadata": {},
   "outputs": [
    {
     "name": "stdout",
     "output_type": "stream",
     "text": [
      "AGER_TYP\n",
      "GEBURTSJAHR\n",
      "TITEL_KZ\n",
      "ALTER_HH\n",
      "KK_KUNDENTYP\n",
      "KBA05_BAUMAX\n"
     ]
    }
   ],
   "source": [
    "# Investigate patterns in the amount of missing data in each column.\n",
    "# Perform an assessment of how much missing data there is in each column of the\n",
    "# dataset.\n",
    "cols_to_drop = []\n",
    "for i in range(len(missing_az)):\n",
    "    if missing_az[i] > 0.2:\n",
    "        print(azdias.columns[i])\n",
    "        cols_to_drop.append(azdias.columns[i])"
   ]
  },
  {
   "cell_type": "code",
   "execution_count": 13,
   "metadata": {},
   "outputs": [],
   "source": [
    "# Remove the outlier columns from the dataset. (You'll perform other data\n",
    "# engineering tasks such as re-encoding and imputation later.)\n",
    "azdias.drop(columns=cols_to_drop, axis=1, inplace=True)"
   ]
  },
  {
   "cell_type": "markdown",
   "metadata": {},
   "source": [
    "#### Discussion 1.1.2: Assess Missing Data in Each Column\n",
    "\n",
    "    column       missing_data_percent\n",
    "    AGER_TYP     78%\n",
    "    GEBURTSJAHR  38%\n",
    "    TITEL_KZ     42%\n",
    "    ALTER_HH     50%\n",
    "    KK_KUNDENTYP 65%\n",
    "    KBA05_BAUMAX 99%"
   ]
  },
  {
   "cell_type": "markdown",
   "metadata": {},
   "source": [
    "#### Step 1.1.3: Assess Missing Data in Each Row\n",
    "\n",
    "Now, you'll perform a similar assessment for the rows of the dataset. How much data is missing in each row? As with the columns, you should see some groups of points that have a very different numbers of missing values. Divide the data into two subsets: one for data points that are above some threshold for missing values, and a second subset for points below that threshold.\n",
    "\n",
    "In order to know what to do with the outlier rows, we should see if the distribution of data values on columns that are not missing data (or are missing very little data) are similar or different between the two groups. Select at least five of these columns and compare the distribution of values.\n",
    "- You can use seaborn's [`countplot()`](https://seaborn.pydata.org/generated/seaborn.countplot.html) function to create a bar chart of code frequencies and matplotlib's [`subplot()`](https://matplotlib.org/api/_as_gen/matplotlib.pyplot.subplot.html) function to put bar charts for the two subplots side by side.\n",
    "- To reduce repeated code, you might want to write a function that can perform this comparison, taking as one of its arguments a column to be compared.\n",
    "\n",
    "Depending on what you observe in your comparison, this will have implications on how you approach your conclusions later in the analysis. If the distributions of non-missing features look similar between the data with many missing values and the data with few or no missing values, then we could argue that simply dropping those points from the analysis won't present a major issue. On the other hand, if the data with many missing values looks very different from the data with few or no missing values, then we should make a note on those data as special. We'll revisit these data later on. **Either way, you should continue your analysis for now using just the subset of the data with few or no missing values.**"
   ]
  },
  {
   "cell_type": "code",
   "execution_count": 14,
   "metadata": {},
   "outputs": [],
   "source": [
    "# How much data is missing in each row of the dataset?\n",
    "azdias['missing_vals'] = azdias.isna().sum(axis=1)"
   ]
  },
  {
   "cell_type": "code",
   "execution_count": 15,
   "metadata": {},
   "outputs": [
    {
     "data": {
      "text/plain": [
       "[<matplotlib.lines.Line2D at 0x7fe77afa9a20>]"
      ]
     },
     "execution_count": 15,
     "metadata": {},
     "output_type": "execute_result"
    },
    {
     "data": {
      "image/png": "[encoded data removed]",
      "text/plain": [
       "<matplotlib.figure.Figure at 0x7fe77d1e59e8>"
      ]
     },
     "metadata": {
      "needs_background": "light"
     },
     "output_type": "display_data"
    }
   ],
   "source": [
    "plt.plot(azdias.groupby(['missing_vals']).size())"
   ]
  },
  {
   "cell_type": "code",
   "execution_count": 16,
   "metadata": {},
   "outputs": [],
   "source": [
    "# Write code to divide the data into two subsets based on the number of missing\n",
    "# values in each row.\n",
    "# let's take 20 as the threshold as it appears to be the mid way between two categories\n",
    "azdias_with_few_na, azdias_with_more_na = azdias[azdias['missing_vals'] < 20], azdias[azdias['missing_vals'] >= 20]"
   ]
  },
  {
   "cell_type": "code",
   "execution_count": 17,
   "metadata": {},
   "outputs": [
    {
     "data": {
      "image/png": "[encoded data removed]",
      "text/plain": [
       "<matplotlib.figure.Figure at 0x7fe77afbe2b0>"
      ]
     },
     "metadata": {
      "needs_background": "light"
     },
     "output_type": "display_data"
    }
   ],
   "source": [
    "# Compare the distribution of values for at least five columns where there are\n",
    "# no or few missing values, between the two subsets.\n",
    "fig, ax = plt.subplots(nrows=2,ncols=1)\n",
    "for i in range(30, 36):\n",
    "    col = azdias.columns[i]\n",
    "    df1 = pd.to_numeric(azdias_with_few_na[col], errors='coerce')\n",
    "    df2 = pd.to_numeric(azdias_with_more_na[col], errors='coerce')\n",
    "    plt.subplot(6, 2, 2*(i-30)+1)\n",
    "    df1.plot.hist(weights = np.ones_like(df1.index) / len(df1.index))\n",
    "    plt.subplot(6, 2, 2*(i-30)+2)\n",
    "    df2.plot.hist(weights = np.ones_like(df2.index) / len(df2.index))"
   ]
  },
  {
   "cell_type": "code",
   "execution_count": 18,
   "metadata": {},
   "outputs": [],
   "source": [
    "azdias_with_few_na = azdias_with_few_na.drop('missing_vals', axis=1)"
   ]
  },
  {
   "cell_type": "markdown",
   "metadata": {},
   "source": [
    "#### Discussion 1.1.3: Assess Missing Data in Each Row\n",
    "\n",
    "Yes, they seem to be different. As seen from the histograms (with % on the y-axis), the distribution of values among the two sets seem to be quite diffrent. So it is best if we ignore the second set with more missing values in each row"
   ]
  },
  {
   "cell_type": "markdown",
   "metadata": {},
   "source": [
    "### Step 1.2: Select and Re-Encode Features\n",
    "\n",
    "Checking for missing data isn't the only way in which you can prepare a dataset for analysis. Since the unsupervised learning techniques to be used will only work on data that is encoded numerically, you need to make a few encoding changes or additional assumptions to be able to make progress. In addition, while almost all of the values in the dataset are encoded using numbers, not all of them represent numeric values. Check the third column of the feature summary (`feat_info`) for a summary of types of measurement.\n",
    "- For numeric and interval data, these features can be kept without changes.\n",
    "- Most of the variables in the dataset are ordinal in nature. While ordinal values may technically be non-linear in spacing, make the simplifying assumption that the ordinal variables can be treated as being interval in nature (that is, kept without any changes).\n",
    "- Special handling may be necessary for the remaining two variable types: categorical, and 'mixed'.\n",
    "\n",
    "In the first two parts of this sub-step, you will perform an investigation of the categorical and mixed-type features and make a decision on each of them, whether you will keep, drop, or re-encode each. Then, in the last part, you will create a new data frame with only the selected and engineered columns.\n",
    "\n",
    "Data wrangling is often the trickiest part of the data analysis process, and there's a lot of it to be done here. But stick with it: once you're done with this step, you'll be ready to get to the machine learning parts of the project!"
   ]
  },
  {
   "cell_type": "code",
   "execution_count": 19,
   "metadata": {},
   "outputs": [
    {
     "data": {
      "text/html": [
       "<div>\n",
       "<style scoped>\n",
       "    .dataframe tbody tr th:only-of-type {\n",
       "        vertical-align: middle;\n",
       "    }\n",
       "\n",
       "    .dataframe tbody tr th {\n",
       "        vertical-align: top;\n",
       "    }\n",
       "\n",
       "    .dataframe thead th {\n",
       "        text-align: right;\n",
       "    }\n",
       "</style>\n",
       "<table border=\"1\" class=\"dataframe\">\n",
       "  <thead>\n",
       "    <tr style=\"text-align: right;\">\n",
       "      <th></th>\n",
       "      <th>attribute</th>\n",
       "      <th>information_level</th>\n",
       "      <th>missing_or_unknown</th>\n",
       "    </tr>\n",
       "    <tr>\n",
       "      <th>type</th>\n",
       "      <th></th>\n",
       "      <th></th>\n",
       "      <th></th>\n",
       "    </tr>\n",
       "  </thead>\n",
       "  <tbody>\n",
       "    <tr>\n",
       "      <th>categorical</th>\n",
       "      <td>21</td>\n",
       "      <td>21</td>\n",
       "      <td>21</td>\n",
       "    </tr>\n",
       "    <tr>\n",
       "      <th>interval</th>\n",
       "      <td>1</td>\n",
       "      <td>1</td>\n",
       "      <td>1</td>\n",
       "    </tr>\n",
       "    <tr>\n",
       "      <th>mixed</th>\n",
       "      <td>7</td>\n",
       "      <td>7</td>\n",
       "      <td>7</td>\n",
       "    </tr>\n",
       "    <tr>\n",
       "      <th>numeric</th>\n",
       "      <td>7</td>\n",
       "      <td>7</td>\n",
       "      <td>7</td>\n",
       "    </tr>\n",
       "    <tr>\n",
       "      <th>ordinal</th>\n",
       "      <td>49</td>\n",
       "      <td>49</td>\n",
       "      <td>49</td>\n",
       "    </tr>\n",
       "  </tbody>\n",
       "</table>\n",
       "</div>"
      ],
      "text/plain": [
       "             attribute  information_level  missing_or_unknown\n",
       "type                                                         \n",
       "categorical         21                 21                  21\n",
       "interval             1                  1                   1\n",
       "mixed                7                  7                   7\n",
       "numeric              7                  7                   7\n",
       "ordinal             49                 49                  49"
      ]
     },
     "execution_count": 19,
     "metadata": {},
     "output_type": "execute_result"
    }
   ],
   "source": [
    "# How many features are there of each data type?\n",
    "feat_info.groupby('type').count()"
   ]
  },
  {
   "cell_type": "markdown",
   "metadata": {},
   "source": [
    "#### Step 1.2.1: Re-Encode Categorical Features\n",
    "\n",
    "For categorical data, you would ordinarily need to encode the levels as dummy variables. Depending on the number of categories, perform one of the following:\n",
    "- For binary (two-level) categoricals that take numeric values, you can keep them without needing to do anything.\n",
    "- There is one binary variable that takes on non-numeric values. For this one, you need to re-encode the values as numbers or create a dummy variable.\n",
    "- For multi-level categoricals (three or more values), you can choose to encode the values using multiple dummy variables (e.g. via [OneHotEncoder](http://scikit-learn.org/stable/modules/generated/sklearn.preprocessing.OneHotEncoder.html)), or (to keep things straightforward) just drop them from the analysis. As always, document your choices in the Discussion section."
   ]
  },
  {
   "cell_type": "code",
   "execution_count": 20,
   "metadata": {},
   "outputs": [
    {
     "name": "stdout",
     "output_type": "stream",
     "text": [
      "ANREDE_KZ [2 1]\n",
      "CJT_GESAMTTYP [  5.   3.   2.   4.   1.   6.  nan]\n",
      "FINANZTYP [1 6 5 2 4 3]\n",
      "GFK_URLAUBERTYP [ 10.   1.   5.  12.   9.   3.   8.  11.   4.   2.   7.   6.  nan]\n",
      "GREEN_AVANTGARDE [0 1]\n",
      "LP_FAMILIE_FEIN [  5.   1.  nan  10.   2.   7.  11.   8.   4.   6.   9.   3.]\n",
      "LP_FAMILIE_GROB [  3.   1.  nan   5.   2.   4.]\n",
      "LP_STATUS_FEIN [  2.   3.   9.   4.   1.  10.   5.   8.   6.   7.  nan]\n",
      "LP_STATUS_GROB [  1.   2.   4.   5.   3.  nan]\n",
      "NATIONALITAET_KZ [  1.   3.   2.  nan]\n",
      "SHOPPER_TYP [  3.   2.   1.   0.  nan]\n",
      "SOHO_KZ [ 1.  0.]\n",
      "VERS_TYP [  2.   1.  nan]\n",
      "ZABEOTYP [5 3 4 1 6 2]\n",
      "GEBAEUDETYP [ 8.  1.  3.  2.  6.  4.  5.]\n",
      "OST_WEST_KZ ['W' 'O']\n",
      "CAMEO_DEUG_2015 ['8' '4' '2' '6' '1' '9' '5' '7' nan '3']\n",
      "CAMEO_DEU_2015 ['8A' '4C' '2A' '6B' '8C' '4A' '2D' '1A' '1E' '9D' '5C' '8B' '7A' '5D' '9E'\n",
      " nan '9B' '1B' '3D' '4E' '4B' '3C' '5A' '7B' '9A' '6D' '6E' '2C' '7C' '9C'\n",
      " '7D' '5E' '1D' '8D' '6C' '6A' '5B' '4D' '3A' '2B' '7E' '3B' '6F' '5F' '1C']\n"
     ]
    }
   ],
   "source": [
    "cat_features = feat_info[feat_info['type'] == 'categorical']['attribute'].unique()\n",
    "for feature in cat_features:\n",
    "    if feature not in cols_to_drop:\n",
    "        print(feature, azdias_with_few_na[feature].unique())"
   ]
  },
  {
   "cell_type": "code",
   "execution_count": 21,
   "metadata": {},
   "outputs": [
    {
     "name": "stdout",
     "output_type": "stream",
     "text": [
      "dropping feature CJT_GESAMTTYP\n",
      "dropping feature FINANZTYP\n",
      "dropping feature GFK_URLAUBERTYP\n",
      "dropping feature LP_FAMILIE_FEIN\n",
      "dropping feature LP_FAMILIE_GROB\n",
      "dropping feature LP_STATUS_FEIN\n",
      "dropping feature LP_STATUS_GROB\n",
      "dropping feature NATIONALITAET_KZ\n",
      "dropping feature SHOPPER_TYP\n",
      "get dummies for feature VERS_TYP\n",
      "dropping feature ZABEOTYP\n",
      "dropping feature GEBAEUDETYP\n",
      "dropping feature CAMEO_DEUG_2015\n",
      "dropping feature CAMEO_DEU_2015\n"
     ]
    }
   ],
   "source": [
    "for feature in cat_features:\n",
    "    if feature not in cols_to_drop:\n",
    "        unique_values = len(azdias_with_few_na[feature].unique())\n",
    "        if unique_values > 3:\n",
    "            azdias_with_few_na.drop(feature, axis=1, inplace=True)\n",
    "            print(\"dropping feature \" + feature)\n",
    "        elif unique_values == 3:\n",
    "            print(\"get dummies for feature \" + feature)\n",
    "            azdias_with_few_na = pd.concat([azdias_with_few_na.drop(feature, axis=1), \\\n",
    "                                            pd.get_dummies(azdias_with_few_na[feature])], axis=1)\n",
    "azdias_with_few_na = pd.concat([azdias_with_few_na.drop('OST_WEST_KZ', axis=1), \\\n",
    "                    pd.get_dummies(azdias_with_few_na['OST_WEST_KZ'])], axis=1)"
   ]
  },
  {
   "cell_type": "markdown",
   "metadata": {},
   "source": [
    "#### Discussion 1.2.1: Re-Encode Categorical Features\n",
    "\n",
    "For now, I've dropped features with more than 3 possible values. For features with 3 values (one of them could also be nan), I've converted them into one hot vectors. Binary ones are kept as is"
   ]
  },
  {
   "cell_type": "markdown",
   "metadata": {},
   "source": [
    "#### Step 1.2.2: Engineer Mixed-Type Features\n",
    "\n",
    "There are a handful of features that are marked as \"mixed\" in the feature summary that require special treatment in order to be included in the analysis. There are two in particular that deserve attention; the handling of the rest are up to your own choices:\n",
    "- \"PRAEGENDE_JUGENDJAHRE\" combines information on three dimensions: generation by decade, movement (mainstream vs. avantgarde), and nation (east vs. west). While there aren't enough levels to disentangle east from west, you should create two new variables to capture the other two dimensions: an interval-type variable for decade, and a binary variable for movement.\n",
    "- \"CAMEO_INTL_2015\" combines information on two axes: wealth and life stage. Break up the two-digit codes by their 'tens'-place and 'ones'-place digits into two new ordinal variables (which, for the purposes of this project, is equivalent to just treating them as their raw numeric values).\n",
    "- If you decide to keep or engineer new features around the other mixed-type features, make sure you note your steps in the Discussion section.\n",
    "\n",
    "Be sure to check `Data_Dictionary.md` for the details needed to finish these tasks."
   ]
  },
  {
   "cell_type": "code",
   "execution_count": 22,
   "metadata": {},
   "outputs": [
    {
     "data": {
      "text/plain": [
       "array(['LP_LEBENSPHASE_FEIN', 'LP_LEBENSPHASE_GROB',\n",
       "       'PRAEGENDE_JUGENDJAHRE', 'WOHNLAGE', 'CAMEO_INTL_2015',\n",
       "       'KBA05_BAUMAX', 'PLZ8_BAUMAX'], dtype=object)"
      ]
     },
     "execution_count": 22,
     "metadata": {},
     "output_type": "execute_result"
    }
   ],
   "source": [
    "feat_info[feat_info['type'] == 'mixed']['attribute'].unique()"
   ]
  },
  {
   "cell_type": "code",
   "execution_count": 23,
   "metadata": {},
   "outputs": [],
   "source": [
    "# Investigate \"PRAEGENDE_JUGENDJAHRE\" and engineer two new variables.\n",
    "def function_decade(row):\n",
    "    val = row['PRAEGENDE_JUGENDJAHRE']\n",
    "    if np.isnan(val):\n",
    "        return np.nan\n",
    "    if val == 1 or val == 2:\n",
    "        return 1\n",
    "    if val == 3 or val == 4:\n",
    "        return 2\n",
    "    if val >= 5 and val <= 7:\n",
    "        return 3\n",
    "    if val == 8 or val == 9:\n",
    "        return 4\n",
    "    if val >= 10 and val <= 13:\n",
    "        return 5\n",
    "    if val == 14 or val == 15:\n",
    "        return 6\n",
    "    \n",
    "def function_movement(row):\n",
    "    val = row['PRAEGENDE_JUGENDJAHRE']\n",
    "    if np.isnan(val):\n",
    "        return np.nan\n",
    "    if val == 1 or val == 3 or val == 5 or val == 8 or val == 10 or val == 12 or val ==14:\n",
    "        return 1\n",
    "    return 2\n",
    "azdias_with_few_na['DECADE_DERIVED'] = azdias_with_few_na.apply(lambda row: function_decade(row), axis=1)\n",
    "azdias_with_few_na['MOVEMENT_DERIVED'] = azdias_with_few_na.apply(lambda row: function_movement(row), axis=1)"
   ]
  },
  {
   "cell_type": "code",
   "execution_count": 24,
   "metadata": {},
   "outputs": [],
   "source": [
    "azdias_with_few_na['CAMEO_INTL_2015'] = azdias_with_few_na['CAMEO_INTL_2015'].astype('float64')"
   ]
  },
  {
   "cell_type": "code",
   "execution_count": 25,
   "metadata": {},
   "outputs": [],
   "source": [
    "# Investigate \"CAMEO_INTL_2015\" and engineer two new variables.\n",
    "def function_get_tens_digit(row):\n",
    "    val = row['CAMEO_INTL_2015']\n",
    "    if np.isnan(val):\n",
    "        return 0\n",
    "    return int(val/10)\n",
    "\n",
    "def function_get_ones_digit(row):\n",
    "    val = row['CAMEO_INTL_2015']\n",
    "    if np.isnan(val):\n",
    "        return 0\n",
    "    return int(val%10)\n",
    "azdias_with_few_na['CAMEO_INTL_2015_ONES'] = azdias_with_few_na.apply(lambda row: function_get_ones_digit(row),\\\n",
    "                                                                      axis=1)\n",
    "azdias_with_few_na['CAMEO_INTL_2015_TENS'] = azdias_with_few_na.apply(lambda row: function_get_tens_digit(row),\\\n",
    "                                                                      axis=1)"
   ]
  },
  {
   "cell_type": "code",
   "execution_count": 26,
   "metadata": {},
   "outputs": [],
   "source": [
    "azdias_with_few_na.drop(columns=['LP_LEBENSPHASE_FEIN',\\\n",
    "                                 'LP_LEBENSPHASE_GROB',\\\n",
    "                                 'WOHNLAGE',\\\n",
    "                                 'PLZ8_BAUMAX',\\\n",
    "                                 'PRAEGENDE_JUGENDJAHRE', \\\n",
    "                                 'CAMEO_INTL_2015'], inplace=True, axis=1)"
   ]
  },
  {
   "cell_type": "markdown",
   "metadata": {},
   "source": [
    "#### Discussion 1.2.2: Engineer Mixed-Type Features\n",
    "features kept:\n",
    "PRAEGENDE_JUGENDJAHRE - added 2 new features, namely DECADE_DERIVED(interval feature) and MOVEMENT_DERIVED(binary feature)\n",
    "CAMEO_INTL_2015 - added 2 new features, namely CAMEO_INTL_2015_ONES and CAMEO_INTL_2015_TENS, both ordinal\n",
    "\n",
    "removed mixed features (['LP_LEBENSPHASE_FEIN', 'LP_LEBENSPHASE_GROB', 'WOHNLAGE', 'PLZ8_BAUMAX', 'PRAEGENDE_JUGENDJAHRE', 'CAMEO_INTL_2015'])"
   ]
  },
  {
   "cell_type": "markdown",
   "metadata": {},
   "source": [
    "#### Step 1.2.3: Complete Feature Selection\n",
    "\n",
    "In order to finish this step up, you need to make sure that your data frame now only has the columns that you want to keep. To summarize, the dataframe should consist of the following:\n",
    "- All numeric, interval, and ordinal type columns from the original dataset.\n",
    "- Binary categorical features (all numerically-encoded).\n",
    "- Engineered features from other multi-level categorical features and mixed features.\n",
    "\n",
    "Make sure that for any new columns that you have engineered, that you've excluded the original columns from the final dataset. Otherwise, their values will interfere with the analysis later on the project. For example, you should not keep \"PRAEGENDE_JUGENDJAHRE\", since its values won't be useful for the algorithm: only the values derived from it in the engineered features you created should be retained. As a reminder, your data should only be from **the subset with few or no missing values**."
   ]
  },
  {
   "cell_type": "code",
   "execution_count": 27,
   "metadata": {},
   "outputs": [],
   "source": [
    "# If there are other re-engineering tasks you need to perform, make sure you\n",
    "# take care of them here. (Dealing with missing data will come in step 2.1.)\n"
   ]
  },
  {
   "cell_type": "code",
   "execution_count": 28,
   "metadata": {},
   "outputs": [],
   "source": [
    "azdias_with_few_na.drop(azdias_with_few_na.columns[azdias_with_few_na.columns.str.contains('unnamed', \\\n",
    "                                    na = False, case = False)],axis = 1, inplace = True)"
   ]
  },
  {
   "cell_type": "markdown",
   "metadata": {},
   "source": [
    "### Step 1.3: Create a Cleaning Function\n",
    "\n",
    "Even though you've finished cleaning up the general population demographics data, it's important to look ahead to the future and realize that you'll need to perform the same cleaning steps on the customer demographics data. In this substep, complete the function below to execute the main feature selection, encoding, and re-engineering steps you performed above. Then, when it comes to looking at the customer data in Step 3, you can just run this function on that DataFrame to get the trimmed dataset in a single step."
   ]
  },
  {
   "cell_type": "code",
   "execution_count": 29,
   "metadata": {},
   "outputs": [],
   "source": [
    "def clean_data(df):\n",
    "    \"\"\"\n",
    "    Perform feature trimming, re-encoding, and engineering for demographics\n",
    "    data\n",
    "    \n",
    "    INPUT: Demographics DataFrame\n",
    "    OUTPUT: Trimmed and cleaned demographics DataFrame\n",
    "    \"\"\"\n",
    "    feat_info = pd.read_csv('AZDIAS_Feature_Summary.csv', delimiter=';')\n",
    "    # Put in code here to execute all main cleaning steps:\n",
    "    # convert missing value codes into NaNs, ...\n",
    "    df = handle_missing_data(df, feat_info)\n",
    "    # remove selected columns and rows, ...\n",
    "    df = df.drop(columns=['AGER_TYP', 'GEBURTSJAHR', 'TITEL_KZ', 'ALTER_HH', \\\n",
    "                          'KK_KUNDENTYP', 'KBA05_BAUMAX'], axis=1)\n",
    "    df['missing_vals'] = df.isna().sum(axis=1)\n",
    "    df = df[df['missing_vals'] < 20]\n",
    "    df = df.drop(columns=['missing_vals'], axis=1)\n",
    "    df = df.drop(columns=['CJT_GESAMTTYP', 'FINANZTYP', 'GFK_URLAUBERTYP', \\\n",
    "                          'LP_FAMILIE_FEIN', 'LP_FAMILIE_GROB', 'LP_STATUS_FEIN', \\\n",
    "                          'LP_STATUS_GROB', 'NATIONALITAET_KZ', 'SHOPPER_TYP', \\\n",
    "                          'ZABEOTYP', 'GEBAEUDETYP', 'CAMEO_DEUG_2015', 'CAMEO_DEU_2015'], axis=1)\n",
    "    \n",
    "    df = pd.concat([df.drop('OST_WEST_KZ', axis=1), pd.get_dummies(df['OST_WEST_KZ'])], axis=1)\n",
    "    df = pd.concat([df.drop('VERS_TYP', axis=1), pd.get_dummies(df['VERS_TYP'])], axis=1)\n",
    "    # select, re-encode, and engineer column values.\n",
    "    df['DECADE_DERIVED'] = df.apply(lambda row: function_decade(row), axis=1)\n",
    "    df['MOVEMENT_DERIVED'] = df.apply(lambda row: function_movement(row), axis=1)\n",
    "    df['CAMEO_INTL_2015'] = df['CAMEO_INTL_2015'].astype('float64')\n",
    "    df['CAMEO_INTL_2015_ONES'] = df.apply(lambda row: function_get_ones_digit(row), axis=1)\n",
    "    df['CAMEO_INTL_2015_TENS'] = df.apply(lambda row: function_get_tens_digit(row), axis=1)\n",
    "    \n",
    "    df = df.drop(columns=['LP_LEBENSPHASE_FEIN', 'LP_LEBENSPHASE_GROB', 'WOHNLAGE',\\\n",
    "                     'PLZ8_BAUMAX', 'PRAEGENDE_JUGENDJAHRE', \\\n",
    "                     'CAMEO_INTL_2015'], axis=1)\n",
    "    return df\n",
    "    # Return the cleaned dataframe.\n",
    "    \n",
    "    "
   ]
  },
  {
   "cell_type": "markdown",
   "metadata": {},
   "source": [
    "## Step 2: Feature Transformation\n",
    "\n",
    "### Step 2.1: Apply Feature Scaling\n",
    "\n",
    "Before we apply dimensionality reduction techniques to the data, we need to perform feature scaling so that the principal component vectors are not influenced by the natural differences in scale for features. Starting from this part of the project, you'll want to keep an eye on the [API reference page for sklearn](http://scikit-learn.org/stable/modules/classes.html) to help you navigate to all of the classes and functions that you'll need. In this substep, you'll need to check the following:\n",
    "\n",
    "- sklearn requires that data not have missing values in order for its estimators to work properly. So, before applying the scaler to your data, make sure that you've cleaned the DataFrame of the remaining missing values. This can be as simple as just removing all data points with missing data, or applying an [Imputer](http://scikit-learn.org/stable/modules/generated/sklearn.preprocessing.Imputer.html) to replace all missing values. You might also try a more complicated procedure where you temporarily remove missing values in order to compute the scaling parameters before re-introducing those missing values and applying imputation. Think about how much missing data you have and what possible effects each approach might have on your analysis, and justify your decision in the discussion section below.\n",
    "- For the actual scaling function, a [StandardScaler](http://scikit-learn.org/stable/modules/generated/sklearn.preprocessing.StandardScaler.html) instance is suggested, scaling each feature to mean 0 and standard deviation 1.\n",
    "- For these classes, you can make use of the `.fit_transform()` method to both fit a procedure to the data as well as apply the transformation to the data at the same time. Don't forget to keep the fit sklearn objects handy, since you'll be applying them to the customer demographics data towards the end of the project."
   ]
  },
  {
   "cell_type": "code",
   "execution_count": 30,
   "metadata": {},
   "outputs": [],
   "source": [
    "# If you've not yet cleaned the dataset of all NaN values, then investigate and\n",
    "# do that now.\n",
    "imputer = Imputer()\n",
    "X = imputer.fit_transform(azdias_with_few_na.values)"
   ]
  },
  {
   "cell_type": "code",
   "execution_count": 31,
   "metadata": {},
   "outputs": [],
   "source": [
    "X = pd.DataFrame(X, columns=azdias_with_few_na.columns)"
   ]
  },
  {
   "cell_type": "code",
   "execution_count": 32,
   "metadata": {},
   "outputs": [],
   "source": [
    "# Apply feature scaling to the general population demographics data.\n",
    "scaler = StandardScaler()\n",
    "X = scaler.fit_transform(X)"
   ]
  },
  {
   "cell_type": "markdown",
   "metadata": {},
   "source": [
    "### Discussion 2.1: Apply Feature Scaling\n",
    "\n",
    "Since about 10% of the rows had one or more nan fields, it didn't make sense to delete those rows. Instead, I tried to use KNN imputer, but since it wasn't available in the current version of sklearn, I went with mean strategy to replace the nan fields. Since the data is related to population, mean makes sense.\n",
    "Post that, I applied a StandardScaler"
   ]
  },
  {
   "cell_type": "markdown",
   "metadata": {},
   "source": [
    "### Step 2.2: Perform Dimensionality Reduction\n",
    "\n",
    "On your scaled data, you are now ready to apply dimensionality reduction techniques.\n",
    "\n",
    "- Use sklearn's [PCA](http://scikit-learn.org/stable/modules/generated/sklearn.decomposition.PCA.html) class to apply principal component analysis on the data, thus finding the vectors of maximal variance in the data. To start, you should not set any parameters (so all components are computed) or set a number of components that is at least half the number of features (so there's enough features to see the general trend in variability).\n",
    "- Check out the ratio of variance explained by each principal component as well as the cumulative variance explained. Try plotting the cumulative or sequential values using matplotlib's [`plot()`](https://matplotlib.org/api/_as_gen/matplotlib.pyplot.plot.html) function. Based on what you find, select a value for the number of transformed features you'll retain for the clustering part of the project.\n",
    "- Once you've made a choice for the number of components to keep, make sure you re-fit a PCA instance to perform the decided-on transformation."
   ]
  },
  {
   "cell_type": "code",
   "execution_count": 33,
   "metadata": {},
   "outputs": [],
   "source": [
    "# Apply PCA to the data.\n",
    "pca = PCA(random_state=23)\n",
    "X_pca = pca.fit_transform(X)"
   ]
  },
  {
   "cell_type": "code",
   "execution_count": 34,
   "metadata": {},
   "outputs": [
    {
     "data": {
      "text/plain": [
       "<Container object of 66 artists>"
      ]
     },
     "execution_count": 34,
     "metadata": {},
     "output_type": "execute_result"
    },
    {
     "data": {
      "image/png": "[encoded data removed]",
      "text/plain": [
       "<matplotlib.figure.Figure at 0x7fe75bbc8198>"
      ]
     },
     "metadata": {
      "needs_background": "light"
     },
     "output_type": "display_data"
    }
   ],
   "source": [
    "# Investigate the variance accounted for by each principal component.\n",
    "plot_x = np.arange(len(pca.explained_variance_ratio_))\n",
    "plot_y = pca.explained_variance_ratio_*100\n",
    "plt.bar(plot_x, plot_y, width=0.5)"
   ]
  },
  {
   "cell_type": "code",
   "execution_count": 35,
   "metadata": {},
   "outputs": [
    {
     "data": {
      "text/plain": [
       "<Container object of 66 artists>"
      ]
     },
     "execution_count": 35,
     "metadata": {},
     "output_type": "execute_result"
    },
    {
     "data": {
      "image/png": "[encoded data removed]",
      "text/plain": [
       "<matplotlib.figure.Figure at 0x7fe6d0136630>"
      ]
     },
     "metadata": {
      "needs_background": "light"
     },
     "output_type": "display_data"
    }
   ],
   "source": [
    "for i in range(1, len(plot_y)):\n",
    "    plot_y[i] += plot_y[i-1]\n",
    "plt.bar(plot_x, plot_y, width=0.5)"
   ]
  },
  {
   "cell_type": "code",
   "execution_count": 36,
   "metadata": {},
   "outputs": [],
   "source": [
    "# Re-apply PCA to the data while selecting for number of components to retain.\n",
    "pca = PCA(n_components=25, random_state=23)\n",
    "X_pca = pca.fit_transform(X)"
   ]
  },
  {
   "cell_type": "markdown",
   "metadata": {},
   "source": [
    "### Discussion 2.2: Perform Dimensionality Reduction\n",
    "\n",
    "After the first 25 principal components, there is a visible decrease in the amount of variance each comp contributes to. And also since the first 25 contribute to about 82-83% of the total variance, I guess 25 is a good number for the prinicipal components. "
   ]
  },
  {
   "cell_type": "markdown",
   "metadata": {},
   "source": [
    "### Step 2.3: Interpret Principal Components\n",
    "\n",
    "Now that we have our transformed principal components, it's a nice idea to check out the weight of each variable on the first few components to see if they can be interpreted in some fashion.\n",
    "\n",
    "As a reminder, each principal component is a unit vector that points in the direction of highest variance (after accounting for the variance captured by earlier principal components). The further a weight is from zero, the more the principal component is in the direction of the corresponding feature. If two features have large weights of the same sign (both positive or both negative), then increases in one tend expect to be associated with increases in the other. To contrast, features with different signs can be expected to show a negative correlation: increases in one variable should result in a decrease in the other.\n",
    "\n",
    "- To investigate the features, you should map each weight to their corresponding feature name, then sort the features according to weight. The most interesting features for each principal component, then, will be those at the beginning and end of the sorted list. Use the data dictionary document to help you understand these most prominent features, their relationships, and what a positive or negative value on the principal component might indicate.\n",
    "- You should investigate and interpret feature associations from the first three principal components in this substep. To help facilitate this, you should write a function that you can call at any time to print the sorted list of feature weights, for the *i*-th principal component. This might come in handy in the next step of the project, when you interpret the tendencies of the discovered clusters."
   ]
  },
  {
   "cell_type": "code",
   "execution_count": 37,
   "metadata": {},
   "outputs": [],
   "source": [
    "def weights_for_features(pca, i, features):\n",
    "    weight_pairs = [(pca.components_[i][x], features[x]) for x in range(len(pca.components_[i]))]\n",
    "    weight_pairs.sort(key = lambda x: x[0]) \n",
    "    weight_pairs.reverse()\n",
    "    return weight_pairs"
   ]
  },
  {
   "cell_type": "code",
   "execution_count": 38,
   "metadata": {},
   "outputs": [],
   "source": [
    "# Map weights for the first principal component to corresponding feature names\n",
    "# and then print the linked values, sorted by weight.\n",
    "# HINT: Try defining a function here or in a new cell that you can reuse in the\n",
    "# other cells.\n",
    "weight_map_1, weight_map_2, weight_map_3 = weights_for_features(pca, 0, azdias_with_few_na.columns), \\\n",
    "                                            weights_for_features(pca, 1, azdias_with_few_na.columns), \\\n",
    "                                            weights_for_features(pca, 2, azdias_with_few_na.columns)"
   ]
  },
  {
   "cell_type": "code",
   "execution_count": 39,
   "metadata": {},
   "outputs": [
    {
     "name": "stdout",
     "output_type": "stream",
     "text": [
      "(0.22809270887145219, 'PLZ8_ANTG3')\n",
      "(0.22155980687601851, 'PLZ8_ANTG4')\n",
      "(0.20599484995869197, 'CAMEO_INTL_2015_TENS')\n",
      "(0.20452442330901391, 'HH_EINKOMMEN_SCORE')\n",
      "(0.19848867726178485, 'ORTSGR_KLS9')\n",
      "Positive featrues of principal comp 1\n",
      "\n",
      "(-0.21715231111059777, 'FINANZ_MINIMALIST')\n",
      "(-0.21820160715344739, 'KBA05_GBZ')\n",
      "(-0.22692159935211045, 'KBA05_ANTG1')\n",
      "(-0.22826581060545428, 'PLZ8_ANTG1')\n",
      "(-0.24311224144806196, 'MOBI_REGIO')\n",
      "negative featrues of principal comp 1\n"
     ]
    }
   ],
   "source": [
    "[print(i) for i in weight_map_1[:5]]\n",
    "print(\"Positive featrues of principal comp 1\\n\")\n",
    "[print(i) for i in weight_map_1[len(weight_map_1)-5:]]\n",
    "print(\"negative featrues of principal comp 1\")"
   ]
  },
  {
   "cell_type": "code",
   "execution_count": 40,
   "metadata": {},
   "outputs": [
    {
     "name": "stdout",
     "output_type": "stream",
     "text": [
      "(0.26208194440684257, 'ALTERSKATEGORIE_GROB')\n",
      "(0.23480790983354816, 'FINANZ_VORSORGER')\n",
      "(0.23105110336173215, 'SEMIO_ERL')\n",
      "(0.18476178562720733, 'SEMIO_LUST')\n",
      "(0.16379436845107412, 'RETOURTYP_BK_S')\n",
      "Positive featrues of principal comp 2\n",
      "\n",
      "(-0.23038071164789303, 'SEMIO_PFLICHT')\n",
      "(-0.2332306078013322, 'SEMIO_TRADV')\n",
      "(-0.23884138939511537, 'FINANZ_SPARER')\n",
      "(-0.25316799630377662, 'DECADE_DERIVED')\n",
      "(-0.25667220184287493, 'SEMIO_REL')\n",
      "negative featrues of principal comp 2\n"
     ]
    }
   ],
   "source": [
    "# Map weights for the second principal component to corresponding feature names\n",
    "# and then print the linked values, sorted by weight.\n",
    "[print(i) for i in weight_map_2[:5]]\n",
    "print(\"Positive featrues of principal comp 2\\n\")\n",
    "[print(i) for i in weight_map_2[len(weight_map_2)-5:]]\n",
    "print(\"negative featrues of principal comp 2\")"
   ]
  },
  {
   "cell_type": "code",
   "execution_count": 41,
   "metadata": {},
   "outputs": [
    {
     "name": "stdout",
     "output_type": "stream",
     "text": [
      "(0.34550956328429944, 'SEMIO_VERT')\n",
      "(0.262921399002364, 'SEMIO_SOZ')\n",
      "(0.25034623945869411, 'SEMIO_FAM')\n",
      "(0.23591463678780078, 'SEMIO_KULT')\n",
      "(0.15627427106582806, 'FINANZ_MINIMALIST')\n",
      "Positive featrues of principal comp 3\n",
      "\n",
      "(-0.21753683330092732, 'SEMIO_RAT')\n",
      "(-0.27622511170806596, 'SEMIO_KRIT')\n",
      "(-0.31445914490621468, 'SEMIO_DOM')\n",
      "(-0.33765765516336338, 'SEMIO_KAEM')\n",
      "(-0.3691077717259092, 'ANREDE_KZ')\n",
      "negative featrues of principal comp 3\n"
     ]
    }
   ],
   "source": [
    "# Map weights for the third principal component to corresponding feature names\n",
    "# and then print the linked values, sorted by weight.\n",
    "[print(i) for i in weight_map_3[:5]]\n",
    "print(\"Positive featrues of principal comp 3\\n\")\n",
    "[print(i) for i in weight_map_3[len(weight_map_3)-5:]]\n",
    "print(\"negative featrues of principal comp 3\")"
   ]
  },
  {
   "cell_type": "markdown",
   "metadata": {},
   "source": [
    "### Discussion 2.3: Interpret Principal Components\n",
    "1. The first pincipal component tries to capture how wealthy the individual is, giving more weight to features like net household income, the community they live in (rich communities have fewer people whereas poor generally have more). It gives negative weights to features like movement, financial interest.\n",
    "2. The second principal comp tries to capture the nature of the individual, taking into account age, event mindedness, sensual mindedness, financial preparednesss. \n",
    "3. The third comp tries to capture individuals with more likely to spend on all things instead of being rational. \n",
    "\n",
    "The first 3 principal components try to capture the overall financial status/stability of the individual."
   ]
  },
  {
   "cell_type": "markdown",
   "metadata": {},
   "source": [
    "## Step 3: Clustering\n",
    "\n",
    "### Step 3.1: Apply Clustering to General Population\n",
    "\n",
    "You've assessed and cleaned the demographics data, then scaled and transformed them. Now, it's time to see how the data clusters in the principal components space. In this substep, you will apply k-means clustering to the dataset and use the average within-cluster distances from each point to their assigned cluster's centroid to decide on a number of clusters to keep.\n",
    "\n",
    "- Use sklearn's [KMeans](http://scikit-learn.org/stable/modules/generated/sklearn.cluster.KMeans.html#sklearn.cluster.KMeans) class to perform k-means clustering on the PCA-transformed data.\n",
    "- Then, compute the average difference from each point to its assigned cluster's center. **Hint**: The KMeans object's `.score()` method might be useful here, but note that in sklearn, scores tend to be defined so that larger is better. Try applying it to a small, toy dataset, or use an internet search to help your understanding.\n",
    "- Perform the above two steps for a number of different cluster counts. You can then see how the average distance decreases with an increasing number of clusters. However, each additional cluster provides a smaller net benefit. Use this fact to select a final number of clusters in which to group the data. **Warning**: because of the large size of the dataset, it can take a long time for the algorithm to resolve. The more clusters to fit, the longer the algorithm will take. You should test for cluster counts through at least 10 clusters to get the full picture, but you shouldn't need to test for a number of clusters above about 30.\n",
    "- Once you've selected a final number of clusters to use, re-fit a KMeans instance to perform the clustering operation. Make sure that you also obtain the cluster assignments for the general demographics data, since you'll be using them in the final Step 3.3."
   ]
  },
  {
   "cell_type": "code",
   "execution_count": 46,
   "metadata": {},
   "outputs": [
    {
     "name": "stdout",
     "output_type": "stream",
     "text": [
      "[-31075368.518583618, -26690180.076588787, -24339029.893944055, -22947595.213039175, -21634302.378453299]\n",
      "[5, 10, 15, 20, 25]\n"
     ]
    }
   ],
   "source": [
    "# Over a number of different cluster counts...\n",
    "\n",
    "scores, centres = [], []\n",
    "for i in range(5, 26, 5):\n",
    "    kmeans = KMeans(i, random_state=23)\n",
    "    model = kmeans.fit(X_pca)\n",
    "    scores.append(model.score(X_pca))\n",
    "    centres.append(i)\n",
    "    # run k-means clustering on the data and...    \n",
    "    # compute the average within-cluster distances.\n",
    "print(scores)\n",
    "print(centres)"
   ]
  },
  {
   "cell_type": "code",
   "execution_count": 47,
   "metadata": {},
   "outputs": [
    {
     "data": {
      "text/plain": [
       "[<matplotlib.lines.Line2D at 0x7fe77b1b2a58>]"
      ]
     },
     "execution_count": 47,
     "metadata": {},
     "output_type": "execute_result"
    },
    {
     "data": {
      "image/png": "[encoded data removed]",
      "text/plain": [
       "<matplotlib.figure.Figure at 0x7fe77d276550>"
      ]
     },
     "metadata": {
      "needs_background": "light"
     },
     "output_type": "display_data"
    }
   ],
   "source": [
    "# Investigate the change in within-cluster distance across number of clusters.\n",
    "# HINT: Use matplotlib's plot function to visualize this relationship.\n",
    "plt.plot(centres, scores, linestyle='--', marker='o', color='b')"
   ]
  },
  {
   "cell_type": "code",
   "execution_count": 48,
   "metadata": {},
   "outputs": [],
   "source": [
    "# Re-fit the k-means model with the selected number of clusters and obtain\n",
    "# cluster predictions for the general population demographics data.\n",
    "kmeans = KMeans(15, random_state=23)\n",
    "model = kmeans.fit(X_pca)\n",
    "preds = model.predict(X_pca)"
   ]
  },
  {
   "cell_type": "markdown",
   "metadata": {},
   "source": [
    "### Discussion 3.1: Apply Clustering to General Population\n",
    "\n",
    "The elbow point seems to be located somewhere near 15, so I think it's a good idea to take 15 clusters into consideration. Also considering the number of features (principal components, 20), 15 clusters should be reasonable"
   ]
  },
  {
   "cell_type": "markdown",
   "metadata": {},
   "source": [
    "### Step 3.2: Apply All Steps to the Customer Data\n",
    "\n",
    "Now that you have clusters and cluster centers for the general population, it's time to see how the customer data maps on to those clusters. Take care to not confuse this for re-fitting all of the models to the customer data. Instead, you're going to use the fits from the general population to clean, transform, and cluster the customer data. In the last step of the project, you will interpret how the general population fits apply to the customer data.\n",
    "\n",
    "- Don't forget when loading in the customers data, that it is semicolon (`;`) delimited.\n",
    "- Apply the same feature wrangling, selection, and engineering steps to the customer demographics using the `clean_data()` function you created earlier. (You can assume that the customer demographics data has similar meaning behind missing data patterns as the general demographics data.)\n",
    "- Use the sklearn objects from the general demographics data, and apply their transformations to the customers data. That is, you should not be using a `.fit()` or `.fit_transform()` method to re-fit the old objects, nor should you be creating new sklearn objects! Carry the data through the feature scaling, PCA, and clustering steps, obtaining cluster assignments for all of the data in the customer demographics data."
   ]
  },
  {
   "cell_type": "code",
   "execution_count": 49,
   "metadata": {},
   "outputs": [],
   "source": [
    "# Load in the customer demographics data.\n",
    "customers = pd.read_csv('Udacity_CUSTOMERS_Subset.csv', delimiter=';')"
   ]
  },
  {
   "cell_type": "code",
   "execution_count": 50,
   "metadata": {},
   "outputs": [],
   "source": [
    "# Apply preprocessing, feature transformation, and clustering from the general\n",
    "# demographics onto the customer data, obtaining cluster predictions for the\n",
    "# customer demographics data.\n",
    "customers = clean_data(customers)\n",
    "cust_data = imputer.transform(customers.values)\n",
    "cust_data = scaler.transform(cust_data)"
   ]
  },
  {
   "cell_type": "code",
   "execution_count": 51,
   "metadata": {},
   "outputs": [],
   "source": [
    "cust_data = pca.transform(cust_data)"
   ]
  },
  {
   "cell_type": "code",
   "execution_count": 52,
   "metadata": {},
   "outputs": [],
   "source": [
    "cust_preds = model.predict(cust_data)"
   ]
  },
  {
   "cell_type": "markdown",
   "metadata": {},
   "source": [
    "### Step 3.3: Compare Customer Data to Demographics Data\n",
    "\n",
    "At this point, you have clustered data based on demographics of the general population of Germany, and seen how the customer data for a mail-order sales company maps onto those demographic clusters. In this final substep, you will compare the two cluster distributions to see where the strongest customer base for the company is.\n",
    "\n",
    "Consider the proportion of persons in each cluster for the general population, and the proportions for the customers. If we think the company's customer base to be universal, then the cluster assignment proportions should be fairly similar between the two. If there are only particular segments of the population that are interested in the company's products, then we should see a mismatch from one to the other. If there is a higher proportion of persons in a cluster for the customer data compared to the general population (e.g. 5% of persons are assigned to a cluster for the general population, but 15% of the customer data is closest to that cluster's centroid) then that suggests the people in that cluster to be a target audience for the company. On the other hand, the proportion of the data in a cluster being larger in the general population than the customer data (e.g. only 2% of customers closest to a population centroid that captures 6% of the data) suggests that group of persons to be outside of the target demographics.\n",
    "\n",
    "Take a look at the following points in this step:\n",
    "\n",
    "- Compute the proportion of data points in each cluster for the general population and the customer data. Visualizations will be useful here: both for the individual dataset proportions, but also to visualize the ratios in cluster representation between groups. Seaborn's [`countplot()`](https://seaborn.pydata.org/generated/seaborn.countplot.html) or [`barplot()`](https://seaborn.pydata.org/generated/seaborn.barplot.html) function could be handy.\n",
    "  - Recall the analysis you performed in step 1.1.3 of the project, where you separated out certain data points from the dataset if they had more than a specified threshold of missing values. If you found that this group was qualitatively different from the main bulk of the data, you should treat this as an additional data cluster in this analysis. Make sure that you account for the number of data points in this subset, for both the general population and customer datasets, when making your computations!\n",
    "- Which cluster or clusters are overrepresented in the customer dataset compared to the general population? Select at least one such cluster and infer what kind of people might be represented by that cluster. Use the principal component interpretations from step 2.3 or look at additional components to help you make this inference. Alternatively, you can use the `.inverse_transform()` method of the PCA and StandardScaler objects to transform centroids back to the original data space and interpret the retrieved values directly.\n",
    "- Perform a similar investigation for the underrepresented clusters. Which cluster or clusters are underrepresented in the customer dataset compared to the general population, and what kinds of people are typified by these clusters?"
   ]
  },
  {
   "cell_type": "code",
   "execution_count": 53,
   "metadata": {},
   "outputs": [
    {
     "data": {
      "text/html": [
       "<div>\n",
       "<style scoped>\n",
       "    .dataframe tbody tr th:only-of-type {\n",
       "        vertical-align: middle;\n",
       "    }\n",
       "\n",
       "    .dataframe tbody tr th {\n",
       "        vertical-align: top;\n",
       "    }\n",
       "\n",
       "    .dataframe thead th {\n",
       "        text-align: right;\n",
       "    }\n",
       "</style>\n",
       "<table border=\"1\" class=\"dataframe\">\n",
       "  <thead>\n",
       "    <tr style=\"text-align: right;\">\n",
       "      <th></th>\n",
       "      <th>0</th>\n",
       "      <th>1</th>\n",
       "      <th>2</th>\n",
       "      <th>3</th>\n",
       "      <th>4</th>\n",
       "      <th>5</th>\n",
       "      <th>6</th>\n",
       "      <th>7</th>\n",
       "      <th>8</th>\n",
       "      <th>9</th>\n",
       "      <th>...</th>\n",
       "      <th>16</th>\n",
       "      <th>17</th>\n",
       "      <th>18</th>\n",
       "      <th>19</th>\n",
       "      <th>20</th>\n",
       "      <th>21</th>\n",
       "      <th>22</th>\n",
       "      <th>23</th>\n",
       "      <th>24</th>\n",
       "      <th>label</th>\n",
       "    </tr>\n",
       "  </thead>\n",
       "  <tbody>\n",
       "    <tr>\n",
       "      <th>0</th>\n",
       "      <td>-5.507722</td>\n",
       "      <td>1.163562</td>\n",
       "      <td>4.382402</td>\n",
       "      <td>1.467438</td>\n",
       "      <td>-0.020408</td>\n",
       "      <td>1.652546</td>\n",
       "      <td>2.548643</td>\n",
       "      <td>-3.120468</td>\n",
       "      <td>-0.581867</td>\n",
       "      <td>-0.252180</td>\n",
       "      <td>...</td>\n",
       "      <td>-0.033308</td>\n",
       "      <td>-0.570607</td>\n",
       "      <td>-1.367353</td>\n",
       "      <td>-0.857579</td>\n",
       "      <td>-0.029267</td>\n",
       "      <td>1.514727</td>\n",
       "      <td>0.276373</td>\n",
       "      <td>-0.127536</td>\n",
       "      <td>0.129452</td>\n",
       "      <td>12</td>\n",
       "    </tr>\n",
       "    <tr>\n",
       "      <th>1</th>\n",
       "      <td>-1.487780</td>\n",
       "      <td>4.965333</td>\n",
       "      <td>-0.651910</td>\n",
       "      <td>2.283349</td>\n",
       "      <td>0.491895</td>\n",
       "      <td>-1.320404</td>\n",
       "      <td>-0.894635</td>\n",
       "      <td>0.447920</td>\n",
       "      <td>-0.911640</td>\n",
       "      <td>-0.050560</td>\n",
       "      <td>...</td>\n",
       "      <td>0.052226</td>\n",
       "      <td>-0.488356</td>\n",
       "      <td>-0.644412</td>\n",
       "      <td>0.011917</td>\n",
       "      <td>-1.376043</td>\n",
       "      <td>-0.827004</td>\n",
       "      <td>-0.907613</td>\n",
       "      <td>0.356127</td>\n",
       "      <td>0.214690</td>\n",
       "      <td>2</td>\n",
       "    </tr>\n",
       "    <tr>\n",
       "      <th>2</th>\n",
       "      <td>-3.990437</td>\n",
       "      <td>0.627259</td>\n",
       "      <td>2.827919</td>\n",
       "      <td>-3.051149</td>\n",
       "      <td>0.314500</td>\n",
       "      <td>-0.181761</td>\n",
       "      <td>1.962363</td>\n",
       "      <td>-0.853954</td>\n",
       "      <td>-0.723591</td>\n",
       "      <td>1.138273</td>\n",
       "      <td>...</td>\n",
       "      <td>0.005891</td>\n",
       "      <td>-0.692590</td>\n",
       "      <td>0.506946</td>\n",
       "      <td>0.403303</td>\n",
       "      <td>-0.344297</td>\n",
       "      <td>-0.392417</td>\n",
       "      <td>0.395920</td>\n",
       "      <td>0.414564</td>\n",
       "      <td>-0.657432</td>\n",
       "      <td>0</td>\n",
       "    </tr>\n",
       "    <tr>\n",
       "      <th>3</th>\n",
       "      <td>1.481444</td>\n",
       "      <td>-0.870708</td>\n",
       "      <td>1.187142</td>\n",
       "      <td>-0.284837</td>\n",
       "      <td>-1.145174</td>\n",
       "      <td>-1.966778</td>\n",
       "      <td>-1.333336</td>\n",
       "      <td>0.347657</td>\n",
       "      <td>1.149126</td>\n",
       "      <td>-1.927752</td>\n",
       "      <td>...</td>\n",
       "      <td>-0.159305</td>\n",
       "      <td>-0.037375</td>\n",
       "      <td>-0.528235</td>\n",
       "      <td>-1.316880</td>\n",
       "      <td>-0.441757</td>\n",
       "      <td>0.044137</td>\n",
       "      <td>-0.642384</td>\n",
       "      <td>1.257876</td>\n",
       "      <td>-0.333998</td>\n",
       "      <td>5</td>\n",
       "    </tr>\n",
       "    <tr>\n",
       "      <th>4</th>\n",
       "      <td>-2.358687</td>\n",
       "      <td>1.389576</td>\n",
       "      <td>2.869609</td>\n",
       "      <td>3.102205</td>\n",
       "      <td>-1.482527</td>\n",
       "      <td>-0.930307</td>\n",
       "      <td>0.681995</td>\n",
       "      <td>-2.327167</td>\n",
       "      <td>0.085341</td>\n",
       "      <td>0.486637</td>\n",
       "      <td>...</td>\n",
       "      <td>-0.026743</td>\n",
       "      <td>-0.510280</td>\n",
       "      <td>1.239920</td>\n",
       "      <td>0.042274</td>\n",
       "      <td>-0.545022</td>\n",
       "      <td>-1.006732</td>\n",
       "      <td>-0.148158</td>\n",
       "      <td>-0.141268</td>\n",
       "      <td>-1.106640</td>\n",
       "      <td>7</td>\n",
       "    </tr>\n",
       "  </tbody>\n",
       "</table>\n",
       "<p>5 rows × 26 columns</p>\n",
       "</div>"
      ],
      "text/plain": [
       "          0         1         2         3         4         5         6  \\\n",
       "0 -5.507722  1.163562  4.382402  1.467438 -0.020408  1.652546  2.548643   \n",
       "1 -1.487780  4.965333 -0.651910  2.283349  0.491895 -1.320404 -0.894635   \n",
       "2 -3.990437  0.627259  2.827919 -3.051149  0.314500 -0.181761  1.962363   \n",
       "3  1.481444 -0.870708  1.187142 -0.284837 -1.145174 -1.966778 -1.333336   \n",
       "4 -2.358687  1.389576  2.869609  3.102205 -1.482527 -0.930307  0.681995   \n",
       "\n",
       "          7         8         9  ...          16        17        18  \\\n",
       "0 -3.120468 -0.581867 -0.252180  ...   -0.033308 -0.570607 -1.367353   \n",
       "1  0.447920 -0.911640 -0.050560  ...    0.052226 -0.488356 -0.644412   \n",
       "2 -0.853954 -0.723591  1.138273  ...    0.005891 -0.692590  0.506946   \n",
       "3  0.347657  1.149126 -1.927752  ...   -0.159305 -0.037375 -0.528235   \n",
       "4 -2.327167  0.085341  0.486637  ...   -0.026743 -0.510280  1.239920   \n",
       "\n",
       "         19        20        21        22        23        24  label  \n",
       "0 -0.857579 -0.029267  1.514727  0.276373 -0.127536  0.129452     12  \n",
       "1  0.011917 -1.376043 -0.827004 -0.907613  0.356127  0.214690      2  \n",
       "2  0.403303 -0.344297 -0.392417  0.395920  0.414564 -0.657432      0  \n",
       "3 -1.316880 -0.441757  0.044137 -0.642384  1.257876 -0.333998      5  \n",
       "4  0.042274 -0.545022 -1.006732 -0.148158 -0.141268 -1.106640      7  \n",
       "\n",
       "[5 rows x 26 columns]"
      ]
     },
     "execution_count": 53,
     "metadata": {},
     "output_type": "execute_result"
    }
   ],
   "source": [
    "cust_df = pd.DataFrame(cust_data)\n",
    "cust_df['label'] = pd.Series(cust_preds)\n",
    "cust_df.head()"
   ]
  },
  {
   "cell_type": "code",
   "execution_count": 54,
   "metadata": {},
   "outputs": [
    {
     "data": {
      "text/html": [
       "<div>\n",
       "<style scoped>\n",
       "    .dataframe tbody tr th:only-of-type {\n",
       "        vertical-align: middle;\n",
       "    }\n",
       "\n",
       "    .dataframe tbody tr th {\n",
       "        vertical-align: top;\n",
       "    }\n",
       "\n",
       "    .dataframe thead th {\n",
       "        text-align: right;\n",
       "    }\n",
       "</style>\n",
       "<table border=\"1\" class=\"dataframe\">\n",
       "  <thead>\n",
       "    <tr style=\"text-align: right;\">\n",
       "      <th></th>\n",
       "      <th>0</th>\n",
       "      <th>1</th>\n",
       "      <th>2</th>\n",
       "      <th>3</th>\n",
       "      <th>4</th>\n",
       "      <th>5</th>\n",
       "      <th>6</th>\n",
       "      <th>7</th>\n",
       "      <th>8</th>\n",
       "      <th>9</th>\n",
       "      <th>...</th>\n",
       "      <th>16</th>\n",
       "      <th>17</th>\n",
       "      <th>18</th>\n",
       "      <th>19</th>\n",
       "      <th>20</th>\n",
       "      <th>21</th>\n",
       "      <th>22</th>\n",
       "      <th>23</th>\n",
       "      <th>24</th>\n",
       "      <th>label</th>\n",
       "    </tr>\n",
       "  </thead>\n",
       "  <tbody>\n",
       "    <tr>\n",
       "      <th>0</th>\n",
       "      <td>3.861266</td>\n",
       "      <td>-2.644482</td>\n",
       "      <td>-2.881991</td>\n",
       "      <td>-0.094094</td>\n",
       "      <td>-2.224925</td>\n",
       "      <td>-0.232272</td>\n",
       "      <td>3.341367</td>\n",
       "      <td>-0.122294</td>\n",
       "      <td>0.052045</td>\n",
       "      <td>-0.716701</td>\n",
       "      <td>...</td>\n",
       "      <td>10.841551</td>\n",
       "      <td>0.585134</td>\n",
       "      <td>0.375315</td>\n",
       "      <td>0.202122</td>\n",
       "      <td>1.179865</td>\n",
       "      <td>-0.811160</td>\n",
       "      <td>-0.214220</td>\n",
       "      <td>-1.395521</td>\n",
       "      <td>-0.426589</td>\n",
       "      <td>14</td>\n",
       "    </tr>\n",
       "    <tr>\n",
       "      <th>1</th>\n",
       "      <td>-0.993417</td>\n",
       "      <td>0.188530</td>\n",
       "      <td>-3.113366</td>\n",
       "      <td>2.265671</td>\n",
       "      <td>-0.152124</td>\n",
       "      <td>1.047085</td>\n",
       "      <td>-0.082730</td>\n",
       "      <td>-0.838428</td>\n",
       "      <td>-0.812501</td>\n",
       "      <td>-0.808084</td>\n",
       "      <td>...</td>\n",
       "      <td>-0.329287</td>\n",
       "      <td>2.678212</td>\n",
       "      <td>0.554021</td>\n",
       "      <td>-1.089013</td>\n",
       "      <td>-0.902450</td>\n",
       "      <td>0.652891</td>\n",
       "      <td>-0.729583</td>\n",
       "      <td>-0.826039</td>\n",
       "      <td>-0.270384</td>\n",
       "      <td>2</td>\n",
       "    </tr>\n",
       "    <tr>\n",
       "      <th>2</th>\n",
       "      <td>-3.919994</td>\n",
       "      <td>1.306822</td>\n",
       "      <td>-0.773640</td>\n",
       "      <td>-0.733403</td>\n",
       "      <td>0.001024</td>\n",
       "      <td>0.774936</td>\n",
       "      <td>-0.621117</td>\n",
       "      <td>0.927447</td>\n",
       "      <td>-0.134580</td>\n",
       "      <td>0.045823</td>\n",
       "      <td>...</td>\n",
       "      <td>-0.030659</td>\n",
       "      <td>0.457849</td>\n",
       "      <td>0.629477</td>\n",
       "      <td>1.228791</td>\n",
       "      <td>0.140706</td>\n",
       "      <td>-0.392277</td>\n",
       "      <td>1.608949</td>\n",
       "      <td>-1.425433</td>\n",
       "      <td>-0.380800</td>\n",
       "      <td>10</td>\n",
       "    </tr>\n",
       "    <tr>\n",
       "      <th>3</th>\n",
       "      <td>0.572010</td>\n",
       "      <td>0.266834</td>\n",
       "      <td>3.266320</td>\n",
       "      <td>0.796475</td>\n",
       "      <td>0.171696</td>\n",
       "      <td>-3.222635</td>\n",
       "      <td>-2.001163</td>\n",
       "      <td>-0.364033</td>\n",
       "      <td>1.449165</td>\n",
       "      <td>-1.493495</td>\n",
       "      <td>...</td>\n",
       "      <td>-0.238726</td>\n",
       "      <td>0.278672</td>\n",
       "      <td>-0.110037</td>\n",
       "      <td>0.017739</td>\n",
       "      <td>-0.540333</td>\n",
       "      <td>1.185997</td>\n",
       "      <td>-0.443294</td>\n",
       "      <td>-0.985170</td>\n",
       "      <td>0.458383</td>\n",
       "      <td>5</td>\n",
       "    </tr>\n",
       "    <tr>\n",
       "      <th>4</th>\n",
       "      <td>-0.737926</td>\n",
       "      <td>-1.317559</td>\n",
       "      <td>-1.040843</td>\n",
       "      <td>-1.405509</td>\n",
       "      <td>-3.420817</td>\n",
       "      <td>-0.435439</td>\n",
       "      <td>0.182387</td>\n",
       "      <td>-1.233094</td>\n",
       "      <td>-1.204897</td>\n",
       "      <td>3.715305</td>\n",
       "      <td>...</td>\n",
       "      <td>0.066359</td>\n",
       "      <td>-1.774453</td>\n",
       "      <td>0.942702</td>\n",
       "      <td>0.062727</td>\n",
       "      <td>-0.359361</td>\n",
       "      <td>-0.018858</td>\n",
       "      <td>0.166942</td>\n",
       "      <td>-1.453962</td>\n",
       "      <td>0.219018</td>\n",
       "      <td>4</td>\n",
       "    </tr>\n",
       "  </tbody>\n",
       "</table>\n",
       "<p>5 rows × 26 columns</p>\n",
       "</div>"
      ],
      "text/plain": [
       "          0         1         2         3         4         5         6  \\\n",
       "0  3.861266 -2.644482 -2.881991 -0.094094 -2.224925 -0.232272  3.341367   \n",
       "1 -0.993417  0.188530 -3.113366  2.265671 -0.152124  1.047085 -0.082730   \n",
       "2 -3.919994  1.306822 -0.773640 -0.733403  0.001024  0.774936 -0.621117   \n",
       "3  0.572010  0.266834  3.266320  0.796475  0.171696 -3.222635 -2.001163   \n",
       "4 -0.737926 -1.317559 -1.040843 -1.405509 -3.420817 -0.435439  0.182387   \n",
       "\n",
       "          7         8         9  ...           16        17        18  \\\n",
       "0 -0.122294  0.052045 -0.716701  ...    10.841551  0.585134  0.375315   \n",
       "1 -0.838428 -0.812501 -0.808084  ...    -0.329287  2.678212  0.554021   \n",
       "2  0.927447 -0.134580  0.045823  ...    -0.030659  0.457849  0.629477   \n",
       "3 -0.364033  1.449165 -1.493495  ...    -0.238726  0.278672 -0.110037   \n",
       "4 -1.233094 -1.204897  3.715305  ...     0.066359 -1.774453  0.942702   \n",
       "\n",
       "         19        20        21        22        23        24  label  \n",
       "0  0.202122  1.179865 -0.811160 -0.214220 -1.395521 -0.426589     14  \n",
       "1 -1.089013 -0.902450  0.652891 -0.729583 -0.826039 -0.270384      2  \n",
       "2  1.228791  0.140706 -0.392277  1.608949 -1.425433 -0.380800     10  \n",
       "3  0.017739 -0.540333  1.185997 -0.443294 -0.985170  0.458383      5  \n",
       "4  0.062727 -0.359361 -0.018858  0.166942 -1.453962  0.219018      4  \n",
       "\n",
       "[5 rows x 26 columns]"
      ]
     },
     "execution_count": 54,
     "metadata": {},
     "output_type": "execute_result"
    }
   ],
   "source": [
    "pop_df = pd.DataFrame(X_pca)\n",
    "pop_df['label'] = pd.Series(preds)\n",
    "pop_df.head()"
   ]
  },
  {
   "cell_type": "code",
   "execution_count": 57,
   "metadata": {},
   "outputs": [],
   "source": [
    "cust_df_percent = [[i, len(cust_df[cust_df['label'] == i])*100/len(cust_df)] for i in range(15)]\n",
    "cust_df_percent = pd.DataFrame(cust_df_percent, columns=['class', 'percent'])\n",
    "\n",
    "pop_df_percent = [[i, len(pop_df[pop_df['label'] == i])*100/len(pop_df)] for i in range(15)]\n",
    "pop_df_percent = pd.DataFrame(pop_df_percent, columns=['class', 'percent'])"
   ]
  },
  {
   "cell_type": "code",
   "execution_count": 58,
   "metadata": {},
   "outputs": [
    {
     "data": {
      "text/plain": [
       "<matplotlib.axes._subplots.AxesSubplot at 0x7fe77b1bccc0>"
      ]
     },
     "execution_count": 58,
     "metadata": {},
     "output_type": "execute_result"
    },
    {
     "data": {
      "image/png": "[encoded data removed]",
      "text/plain": [
       "<matplotlib.figure.Figure at 0x7fe77b0f4b00>"
      ]
     },
     "metadata": {
      "needs_background": "light"
     },
     "output_type": "display_data"
    }
   ],
   "source": [
    "sns.barplot(x='class', y='percent', data=cust_df_percent)"
   ]
  },
  {
   "cell_type": "code",
   "execution_count": 59,
   "metadata": {},
   "outputs": [
    {
     "data": {
      "text/plain": [
       "<matplotlib.axes._subplots.AxesSubplot at 0x7fe75b60d2e8>"
      ]
     },
     "execution_count": 59,
     "metadata": {},
     "output_type": "execute_result"
    },
    {
     "data": {
      "image/png": "[encoded data removed]",
      "text/plain": [
       "<matplotlib.figure.Figure at 0x7fe77b1595f8>"
      ]
     },
     "metadata": {
      "needs_background": "light"
     },
     "output_type": "display_data"
    }
   ],
   "source": [
    "# Compare the proportion of data in each cluster for the customer data to the\n",
    "# proportion of data in each cluster for the general population.\n",
    "sns.barplot(x='class', y='percent', data=pop_df_percent)"
   ]
  },
  {
   "cell_type": "code",
   "execution_count": 60,
   "metadata": {},
   "outputs": [
    {
     "data": {
      "text/plain": [
       "<matplotlib.axes._subplots.AxesSubplot at 0x7fe75b00b6a0>"
      ]
     },
     "execution_count": 60,
     "metadata": {},
     "output_type": "execute_result"
    },
    {
     "data": {
      "image/png": "[encoded data removed]",
      "text/plain": [
       "<matplotlib.figure.Figure at 0x7fe75b864cf8>"
      ]
     },
     "metadata": {
      "needs_background": "light"
     },
     "output_type": "display_data"
    }
   ],
   "source": [
    "cust_df_percent['percent'] = cust_df_percent['percent'] - pop_df_percent['percent']\n",
    "sns.barplot(x='class', y='percent', data=cust_df_percent)"
   ]
  },
  {
   "cell_type": "code",
   "execution_count": 63,
   "metadata": {},
   "outputs": [
    {
     "data": {
      "text/html": [
       "<div>\n",
       "<style scoped>\n",
       "    .dataframe tbody tr th:only-of-type {\n",
       "        vertical-align: middle;\n",
       "    }\n",
       "\n",
       "    .dataframe tbody tr th {\n",
       "        vertical-align: top;\n",
       "    }\n",
       "\n",
       "    .dataframe thead th {\n",
       "        text-align: right;\n",
       "    }\n",
       "</style>\n",
       "<table border=\"1\" class=\"dataframe\">\n",
       "  <thead>\n",
       "    <tr style=\"text-align: right;\">\n",
       "      <th></th>\n",
       "      <th>PLZ8_ANTG3</th>\n",
       "      <th>PLZ8_ANTG4</th>\n",
       "      <th>CAMEO_INTL_2015_TENS</th>\n",
       "      <th>HH_EINKOMMEN_SCORE</th>\n",
       "      <th>ORTSGR_KLS9</th>\n",
       "      <th>ALTERSKATEGORIE_GROB</th>\n",
       "      <th>FINANZ_VORSORGER</th>\n",
       "      <th>SEMIO_ERL</th>\n",
       "      <th>SEMIO_LUST</th>\n",
       "      <th>RETOURTYP_BK_S</th>\n",
       "      <th>SEMIO_VERT</th>\n",
       "      <th>SEMIO_SOZ</th>\n",
       "      <th>SEMIO_FAM</th>\n",
       "      <th>SEMIO_KULT</th>\n",
       "      <th>FINANZ_MINIMALIST</th>\n",
       "    </tr>\n",
       "  </thead>\n",
       "  <tbody>\n",
       "    <tr>\n",
       "      <th>0</th>\n",
       "      <td>0.861387</td>\n",
       "      <td>0.246883</td>\n",
       "      <td>2.728592</td>\n",
       "      <td>4.092390</td>\n",
       "      <td>3.284918</td>\n",
       "      <td>3.404534</td>\n",
       "      <td>3.523039</td>\n",
       "      <td>5.492082</td>\n",
       "      <td>4.866215</td>\n",
       "      <td>3.391993</td>\n",
       "      <td>4.405960</td>\n",
       "      <td>3.620723</td>\n",
       "      <td>3.268440</td>\n",
       "      <td>3.377774</td>\n",
       "      <td>3.996796</td>\n",
       "    </tr>\n",
       "    <tr>\n",
       "      <th>1</th>\n",
       "      <td>2.432356</td>\n",
       "      <td>1.283182</td>\n",
       "      <td>4.369357</td>\n",
       "      <td>5.505508</td>\n",
       "      <td>6.931228</td>\n",
       "      <td>1.803526</td>\n",
       "      <td>2.105046</td>\n",
       "      <td>2.080024</td>\n",
       "      <td>2.827353</td>\n",
       "      <td>2.720642</td>\n",
       "      <td>6.063192</td>\n",
       "      <td>6.479721</td>\n",
       "      <td>6.776836</td>\n",
       "      <td>6.964096</td>\n",
       "      <td>1.881529</td>\n",
       "    </tr>\n",
       "    <tr>\n",
       "      <th>2</th>\n",
       "      <td>1.194392</td>\n",
       "      <td>0.398744</td>\n",
       "      <td>2.017240</td>\n",
       "      <td>2.438045</td>\n",
       "      <td>5.380225</td>\n",
       "      <td>3.404481</td>\n",
       "      <td>4.155488</td>\n",
       "      <td>6.257763</td>\n",
       "      <td>5.208853</td>\n",
       "      <td>3.506118</td>\n",
       "      <td>3.116444</td>\n",
       "      <td>2.858714</td>\n",
       "      <td>2.030934</td>\n",
       "      <td>2.009213</td>\n",
       "      <td>4.099868</td>\n",
       "    </tr>\n",
       "    <tr>\n",
       "      <th>3</th>\n",
       "      <td>2.332156</td>\n",
       "      <td>1.185364</td>\n",
       "      <td>4.202098</td>\n",
       "      <td>5.490268</td>\n",
       "      <td>6.646348</td>\n",
       "      <td>3.605069</td>\n",
       "      <td>4.385337</td>\n",
       "      <td>6.572293</td>\n",
       "      <td>5.348361</td>\n",
       "      <td>4.243496</td>\n",
       "      <td>2.693957</td>\n",
       "      <td>2.791853</td>\n",
       "      <td>2.170978</td>\n",
       "      <td>1.862659</td>\n",
       "      <td>2.508900</td>\n",
       "    </tr>\n",
       "    <tr>\n",
       "      <th>4</th>\n",
       "      <td>1.732881</td>\n",
       "      <td>0.664818</td>\n",
       "      <td>3.670557</td>\n",
       "      <td>5.316956</td>\n",
       "      <td>5.379028</td>\n",
       "      <td>1.859219</td>\n",
       "      <td>2.300823</td>\n",
       "      <td>4.491709</td>\n",
       "      <td>3.310629</td>\n",
       "      <td>2.611980</td>\n",
       "      <td>2.376917</td>\n",
       "      <td>3.097944</td>\n",
       "      <td>3.818248</td>\n",
       "      <td>3.872186</td>\n",
       "      <td>1.431991</td>\n",
       "    </tr>\n",
       "    <tr>\n",
       "      <th>5</th>\n",
       "      <td>2.260771</td>\n",
       "      <td>1.007488</td>\n",
       "      <td>4.175033</td>\n",
       "      <td>5.247501</td>\n",
       "      <td>6.426024</td>\n",
       "      <td>3.306694</td>\n",
       "      <td>4.149226</td>\n",
       "      <td>4.270895</td>\n",
       "      <td>5.067859</td>\n",
       "      <td>4.446637</td>\n",
       "      <td>5.806475</td>\n",
       "      <td>5.296445</td>\n",
       "      <td>5.185057</td>\n",
       "      <td>5.028850</td>\n",
       "      <td>3.444151</td>\n",
       "    </tr>\n",
       "    <tr>\n",
       "      <th>6</th>\n",
       "      <td>2.348125</td>\n",
       "      <td>1.614021</td>\n",
       "      <td>4.592636</td>\n",
       "      <td>5.528342</td>\n",
       "      <td>7.449042</td>\n",
       "      <td>3.209584</td>\n",
       "      <td>3.884155</td>\n",
       "      <td>4.455470</td>\n",
       "      <td>5.216625</td>\n",
       "      <td>4.311807</td>\n",
       "      <td>5.286772</td>\n",
       "      <td>5.154235</td>\n",
       "      <td>5.028912</td>\n",
       "      <td>4.729274</td>\n",
       "      <td>2.819349</td>\n",
       "    </tr>\n",
       "    <tr>\n",
       "      <th>7</th>\n",
       "      <td>0.911774</td>\n",
       "      <td>0.230728</td>\n",
       "      <td>2.315912</td>\n",
       "      <td>3.382026</td>\n",
       "      <td>4.005357</td>\n",
       "      <td>2.932555</td>\n",
       "      <td>3.749383</td>\n",
       "      <td>4.046306</td>\n",
       "      <td>4.263191</td>\n",
       "      <td>3.643718</td>\n",
       "      <td>5.615147</td>\n",
       "      <td>5.055626</td>\n",
       "      <td>4.795883</td>\n",
       "      <td>4.988302</td>\n",
       "      <td>4.375565</td>\n",
       "    </tr>\n",
       "    <tr>\n",
       "      <th>8</th>\n",
       "      <td>1.047696</td>\n",
       "      <td>0.314843</td>\n",
       "      <td>2.415644</td>\n",
       "      <td>3.673060</td>\n",
       "      <td>4.120699</td>\n",
       "      <td>1.817943</td>\n",
       "      <td>2.242186</td>\n",
       "      <td>2.048587</td>\n",
       "      <td>2.920965</td>\n",
       "      <td>2.613389</td>\n",
       "      <td>6.424461</td>\n",
       "      <td>6.040400</td>\n",
       "      <td>6.604861</td>\n",
       "      <td>6.905467</td>\n",
       "      <td>3.120777</td>\n",
       "    </tr>\n",
       "    <tr>\n",
       "      <th>9</th>\n",
       "      <td>2.679400</td>\n",
       "      <td>1.562135</td>\n",
       "      <td>4.588306</td>\n",
       "      <td>5.722424</td>\n",
       "      <td>7.651362</td>\n",
       "      <td>1.710107</td>\n",
       "      <td>2.175956</td>\n",
       "      <td>4.358904</td>\n",
       "      <td>3.135657</td>\n",
       "      <td>2.752011</td>\n",
       "      <td>2.263422</td>\n",
       "      <td>3.518430</td>\n",
       "      <td>3.988252</td>\n",
       "      <td>4.155759</td>\n",
       "      <td>1.088080</td>\n",
       "    </tr>\n",
       "    <tr>\n",
       "      <th>10</th>\n",
       "      <td>0.888021</td>\n",
       "      <td>0.202146</td>\n",
       "      <td>2.563186</td>\n",
       "      <td>4.133460</td>\n",
       "      <td>3.426627</td>\n",
       "      <td>3.482916</td>\n",
       "      <td>4.268725</td>\n",
       "      <td>6.355307</td>\n",
       "      <td>4.827109</td>\n",
       "      <td>3.458396</td>\n",
       "      <td>3.031551</td>\n",
       "      <td>2.531021</td>\n",
       "      <td>2.145061</td>\n",
       "      <td>2.136466</td>\n",
       "      <td>3.578389</td>\n",
       "    </tr>\n",
       "    <tr>\n",
       "      <th>11</th>\n",
       "      <td>1.727507</td>\n",
       "      <td>0.801255</td>\n",
       "      <td>2.620066</td>\n",
       "      <td>3.325034</td>\n",
       "      <td>5.832031</td>\n",
       "      <td>3.034042</td>\n",
       "      <td>3.952278</td>\n",
       "      <td>4.633145</td>\n",
       "      <td>5.444324</td>\n",
       "      <td>3.964298</td>\n",
       "      <td>4.509381</td>\n",
       "      <td>4.246816</td>\n",
       "      <td>4.118683</td>\n",
       "      <td>3.878680</td>\n",
       "      <td>3.400714</td>\n",
       "    </tr>\n",
       "    <tr>\n",
       "      <th>12</th>\n",
       "      <td>1.039850</td>\n",
       "      <td>0.297017</td>\n",
       "      <td>2.272508</td>\n",
       "      <td>3.107519</td>\n",
       "      <td>4.343861</td>\n",
       "      <td>3.707115</td>\n",
       "      <td>4.738078</td>\n",
       "      <td>4.526498</td>\n",
       "      <td>5.907783</td>\n",
       "      <td>4.091558</td>\n",
       "      <td>6.467404</td>\n",
       "      <td>5.036108</td>\n",
       "      <td>4.748797</td>\n",
       "      <td>4.590023</td>\n",
       "      <td>4.767619</td>\n",
       "    </tr>\n",
       "    <tr>\n",
       "      <th>13</th>\n",
       "      <td>0.826407</td>\n",
       "      <td>0.193214</td>\n",
       "      <td>2.187089</td>\n",
       "      <td>3.584144</td>\n",
       "      <td>3.694888</td>\n",
       "      <td>1.782592</td>\n",
       "      <td>2.242355</td>\n",
       "      <td>4.429583</td>\n",
       "      <td>3.144638</td>\n",
       "      <td>2.527506</td>\n",
       "      <td>2.656939</td>\n",
       "      <td>2.918699</td>\n",
       "      <td>3.694410</td>\n",
       "      <td>4.016251</td>\n",
       "      <td>2.689904</td>\n",
       "    </tr>\n",
       "    <tr>\n",
       "      <th>14</th>\n",
       "      <td>1.549104</td>\n",
       "      <td>0.660401</td>\n",
       "      <td>3.115132</td>\n",
       "      <td>4.324763</td>\n",
       "      <td>5.223176</td>\n",
       "      <td>2.758129</td>\n",
       "      <td>3.429656</td>\n",
       "      <td>4.597419</td>\n",
       "      <td>4.447903</td>\n",
       "      <td>3.406578</td>\n",
       "      <td>4.276733</td>\n",
       "      <td>4.271229</td>\n",
       "      <td>4.138613</td>\n",
       "      <td>4.146307</td>\n",
       "      <td>3.128788</td>\n",
       "    </tr>\n",
       "  </tbody>\n",
       "</table>\n",
       "</div>"
      ],
      "text/plain": [
       "    PLZ8_ANTG3  PLZ8_ANTG4  CAMEO_INTL_2015_TENS  HH_EINKOMMEN_SCORE  \\\n",
       "0     0.861387    0.246883              2.728592            4.092390   \n",
       "1     2.432356    1.283182              4.369357            5.505508   \n",
       "2     1.194392    0.398744              2.017240            2.438045   \n",
       "3     2.332156    1.185364              4.202098            5.490268   \n",
       "4     1.732881    0.664818              3.670557            5.316956   \n",
       "5     2.260771    1.007488              4.175033            5.247501   \n",
       "6     2.348125    1.614021              4.592636            5.528342   \n",
       "7     0.911774    0.230728              2.315912            3.382026   \n",
       "8     1.047696    0.314843              2.415644            3.673060   \n",
       "9     2.679400    1.562135              4.588306            5.722424   \n",
       "10    0.888021    0.202146              2.563186            4.133460   \n",
       "11    1.727507    0.801255              2.620066            3.325034   \n",
       "12    1.039850    0.297017              2.272508            3.107519   \n",
       "13    0.826407    0.193214              2.187089            3.584144   \n",
       "14    1.549104    0.660401              3.115132            4.324763   \n",
       "\n",
       "    ORTSGR_KLS9  ALTERSKATEGORIE_GROB  FINANZ_VORSORGER  SEMIO_ERL  \\\n",
       "0      3.284918              3.404534          3.523039   5.492082   \n",
       "1      6.931228              1.803526          2.105046   2.080024   \n",
       "2      5.380225              3.404481          4.155488   6.257763   \n",
       "3      6.646348              3.605069          4.385337   6.572293   \n",
       "4      5.379028              1.859219          2.300823   4.491709   \n",
       "5      6.426024              3.306694          4.149226   4.270895   \n",
       "6      7.449042              3.209584          3.884155   4.455470   \n",
       "7      4.005357              2.932555          3.749383   4.046306   \n",
       "8      4.120699              1.817943          2.242186   2.048587   \n",
       "9      7.651362              1.710107          2.175956   4.358904   \n",
       "10     3.426627              3.482916          4.268725   6.355307   \n",
       "11     5.832031              3.034042          3.952278   4.633145   \n",
       "12     4.343861              3.707115          4.738078   4.526498   \n",
       "13     3.694888              1.782592          2.242355   4.429583   \n",
       "14     5.223176              2.758129          3.429656   4.597419   \n",
       "\n",
       "    SEMIO_LUST  RETOURTYP_BK_S  SEMIO_VERT  SEMIO_SOZ  SEMIO_FAM  SEMIO_KULT  \\\n",
       "0     4.866215        3.391993    4.405960   3.620723   3.268440    3.377774   \n",
       "1     2.827353        2.720642    6.063192   6.479721   6.776836    6.964096   \n",
       "2     5.208853        3.506118    3.116444   2.858714   2.030934    2.009213   \n",
       "3     5.348361        4.243496    2.693957   2.791853   2.170978    1.862659   \n",
       "4     3.310629        2.611980    2.376917   3.097944   3.818248    3.872186   \n",
       "5     5.067859        4.446637    5.806475   5.296445   5.185057    5.028850   \n",
       "6     5.216625        4.311807    5.286772   5.154235   5.028912    4.729274   \n",
       "7     4.263191        3.643718    5.615147   5.055626   4.795883    4.988302   \n",
       "8     2.920965        2.613389    6.424461   6.040400   6.604861    6.905467   \n",
       "9     3.135657        2.752011    2.263422   3.518430   3.988252    4.155759   \n",
       "10    4.827109        3.458396    3.031551   2.531021   2.145061    2.136466   \n",
       "11    5.444324        3.964298    4.509381   4.246816   4.118683    3.878680   \n",
       "12    5.907783        4.091558    6.467404   5.036108   4.748797    4.590023   \n",
       "13    3.144638        2.527506    2.656939   2.918699   3.694410    4.016251   \n",
       "14    4.447903        3.406578    4.276733   4.271229   4.138613    4.146307   \n",
       "\n",
       "    FINANZ_MINIMALIST  \n",
       "0            3.996796  \n",
       "1            1.881529  \n",
       "2            4.099868  \n",
       "3            2.508900  \n",
       "4            1.431991  \n",
       "5            3.444151  \n",
       "6            2.819349  \n",
       "7            4.375565  \n",
       "8            3.120777  \n",
       "9            1.088080  \n",
       "10           3.578389  \n",
       "11           3.400714  \n",
       "12           4.767619  \n",
       "13           2.689904  \n",
       "14           3.128788  "
      ]
     },
     "execution_count": 63,
     "metadata": {},
     "output_type": "execute_result"
    }
   ],
   "source": [
    "# What kinds of people are part of a cluster that is overrepresented in the\n",
    "# customer data compared to the general population?\n",
    "centroids_vec = pd.DataFrame(scaler.inverse_transform(pca.inverse_transform(kmeans.cluster_centers_)), \\\n",
    "                             columns=azdias_with_few_na.columns)\n",
    "centroids_vec[['PLZ8_ANTG3' ,'PLZ8_ANTG4' ,'CAMEO_INTL_2015_TENS' ,'HH_EINKOMMEN_SCORE' ,'ORTSGR_KLS9', 'ALTERSKATEGORIE_GROB', 'FINANZ_VORSORGER', 'SEMIO_ERL', 'SEMIO_LUST', 'RETOURTYP_BK_S', 'SEMIO_VERT', 'SEMIO_SOZ', 'SEMIO_FAM', 'SEMIO_KULT', 'FINANZ_MINIMALIST']]"
   ]
  },
  {
   "cell_type": "code",
   "execution_count": 64,
   "metadata": {},
   "outputs": [],
   "source": [
    "# What kinds of people are part of a cluster that is underrepresented in the\n",
    "# customer data compared to the general population?\n",
    "\n"
   ]
  },
  {
   "cell_type": "markdown",
   "metadata": {},
   "source": [
    "### Discussion 3.3: Compare Customer Data to Demographics Data\n",
    "Compute the proportion of data points in each cluster for the general population and the customer data\n",
    "\n",
    "The population distribution seems to be a bit uniform among all the clusters except a few. But with the customers data, the distribution among a few clusters is very high in comparision with the others. There is a specific set of population that are interested in the company's products. Clusters 12, 7, and 2 contribute to most of the customer proportion. Also since the filtered data is about 10% of the actual data, things shouldn't change much.\n",
    "\n",
    "\n",
    "Clusters 12, 7 and 2 are overrepresented in the customers data in comparision to the general population. \n",
    "\n",
    "They represent population from localities with low share of 6-10 family houses, belong to properous households, with income range from high to very high, people mostly aged between 46-60.\n",
    "\n",
    "\n",
    "Cluster 1, 4 and 13 are underrepresented in the customers data in comparision to the general population\n",
    "\n",
    "They consist of population belonging to less affluent households (a few from wealthy and comfortable too), with income between very low to lowe (some between average to high), with people under age of 46, people who are highly prepared for financial shortcomings.\n"
   ]
  },
  {
   "cell_type": "markdown",
   "metadata": {},
   "source": [
    "> Congratulations on making it this far in the project! Before you finish, make sure to check through the entire notebook from top to bottom to make sure that your analysis follows a logical flow and all of your findings are documented in **Discussion** cells. Once you've checked over all of your work, you should export the notebook as an HTML document to submit for evaluation. You can do this from the menu, navigating to **File -> Download as -> HTML (.html)**. You will submit both that document and this notebook for your project submission."
   ]
  },
  {
   "cell_type": "code",
   "execution_count": null,
   "metadata": {},
   "outputs": [],
   "source": []
  }
 ],
 "metadata": {
  "kernelspec": {
   "display_name": "Python 3",
   "language": "python",
   "name": "python3"
  },
  "language_info": {
   "codemirror_mode": {
    "name": "ipython",
    "version": 3
   },
   "file_extension": ".py",
   "mimetype": "text/x-python",
   "name": "python",
   "nbconvert_exporter": "python",
   "pygments_lexer": "ipython3",
   "version": "3.7.0"
  }
 },
 "nbformat": 4,
 "nbformat_minor": 2
}
